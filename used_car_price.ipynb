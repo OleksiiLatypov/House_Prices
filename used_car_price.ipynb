{
  "metadata": {
    "kernelspec": {
      "language": "python",
      "display_name": "Python 3",
      "name": "python3"
    },
    "language_info": {
      "name": "python",
      "version": "3.10.14",
      "mimetype": "text/x-python",
      "codemirror_mode": {
        "name": "ipython",
        "version": 3
      },
      "pygments_lexer": "ipython3",
      "nbconvert_exporter": "python",
      "file_extension": ".py"
    },
    "kaggle": {
      "accelerator": "none",
      "dataSources": [
        {
          "sourceId": 76728,
          "databundleVersionId": 9057646,
          "sourceType": "competition"
        }
      ],
      "dockerImageVersionId": 30761,
      "isInternetEnabled": true,
      "language": "python",
      "sourceType": "notebook",
      "isGpuEnabled": false
    },
    "colab": {
      "name": "used_car_price",
      "provenance": [],
      "include_colab_link": true
    }
  },
  "nbformat_minor": 0,
  "nbformat": 4,
  "cells": [
    {
      "cell_type": "markdown",
      "metadata": {
        "id": "view-in-github",
        "colab_type": "text"
      },
      "source": [
        "<a href=\"https://colab.research.google.com/github/OleksiiLatypov/House_Prices/blob/main/used_car_price.ipynb\" target=\"_parent\"><img src=\"https://colab.research.google.com/assets/colab-badge.svg\" alt=\"Open In Colab\"/></a>"
      ]
    },
    {
      "source": [
        "\n",
        "# IMPORTANT: RUN THIS CELL IN ORDER TO IMPORT YOUR KAGGLE DATA SOURCES\n",
        "# TO THE CORRECT LOCATION (/kaggle/input) IN YOUR NOTEBOOK,\n",
        "# THEN FEEL FREE TO DELETE THIS CELL.\n",
        "# NOTE: THIS NOTEBOOK ENVIRONMENT DIFFERS FROM KAGGLE'S PYTHON\n",
        "# ENVIRONMENT SO THERE MAY BE MISSING LIBRARIES USED BY YOUR\n",
        "# NOTEBOOK.\n",
        "\n",
        "import os\n",
        "import sys\n",
        "from tempfile import NamedTemporaryFile\n",
        "from urllib.request import urlopen\n",
        "from urllib.parse import unquote, urlparse\n",
        "from urllib.error import HTTPError\n",
        "from zipfile import ZipFile\n",
        "import tarfile\n",
        "import shutil\n",
        "\n",
        "CHUNK_SIZE = 40960\n",
        "DATA_SOURCE_MAPPING = 'playground-series-s4e9:https%3A%2F%2Fstorage.googleapis.com%2Fkaggle-competitions-data%2Fkaggle-v2%2F76728%2F9057646%2Fbundle%2Farchive.zip%3FX-Goog-Algorithm%3DGOOG4-RSA-SHA256%26X-Goog-Credential%3Dgcp-kaggle-com%2540kaggle-161607.iam.gserviceaccount.com%252F20240912%252Fauto%252Fstorage%252Fgoog4_request%26X-Goog-Date%3D20240912T203044Z%26X-Goog-Expires%3D259200%26X-Goog-SignedHeaders%3Dhost%26X-Goog-Signature%3D068ac851739e0d26fd886d239f32b5425a731e23bc00ecac006bfc4715f32a0fcce4121ceef9db22144797076efbdd70a6d2994d63a247589f173737b9254332ed3dd7d9db7466822ea9ebaf1cd4c90355b7e35df18a20016deca0edc90ead9c8286dca246ddddf9e910a7a47fe66de696aff620431e1884e14d1e52cb03bbb8502d14c3152c0464e69352f33dc25b943fa3b3c9ff918253d931608c53191424a2b32fc33237bf174afcbbbc917e6d04a7aca7f5f6de0d11c9da8c3d499f4d252d859a2c3149d2ffd1f86f2515244286e02b6abc499d50427b5a15487ea047f0ce5c72d9a561a7ce4a2377f33ce3b10cc361feaf833d5d6c25203cca5bab6aed'\n",
        "\n",
        "KAGGLE_INPUT_PATH='/kaggle/input'\n",
        "KAGGLE_WORKING_PATH='/kaggle/working'\n",
        "KAGGLE_SYMLINK='kaggle'\n",
        "\n",
        "!umount /kaggle/input/ 2> /dev/null\n",
        "shutil.rmtree('/kaggle/input', ignore_errors=True)\n",
        "os.makedirs(KAGGLE_INPUT_PATH, 0o777, exist_ok=True)\n",
        "os.makedirs(KAGGLE_WORKING_PATH, 0o777, exist_ok=True)\n",
        "\n",
        "try:\n",
        "  os.symlink(KAGGLE_INPUT_PATH, os.path.join(\"..\", 'input'), target_is_directory=True)\n",
        "except FileExistsError:\n",
        "  pass\n",
        "try:\n",
        "  os.symlink(KAGGLE_WORKING_PATH, os.path.join(\"..\", 'working'), target_is_directory=True)\n",
        "except FileExistsError:\n",
        "  pass\n",
        "\n",
        "for data_source_mapping in DATA_SOURCE_MAPPING.split(','):\n",
        "    directory, download_url_encoded = data_source_mapping.split(':')\n",
        "    download_url = unquote(download_url_encoded)\n",
        "    filename = urlparse(download_url).path\n",
        "    destination_path = os.path.join(KAGGLE_INPUT_PATH, directory)\n",
        "    try:\n",
        "        with urlopen(download_url) as fileres, NamedTemporaryFile() as tfile:\n",
        "            total_length = fileres.headers['content-length']\n",
        "            print(f'Downloading {directory}, {total_length} bytes compressed')\n",
        "            dl = 0\n",
        "            data = fileres.read(CHUNK_SIZE)\n",
        "            while len(data) > 0:\n",
        "                dl += len(data)\n",
        "                tfile.write(data)\n",
        "                done = int(50 * dl / int(total_length))\n",
        "                sys.stdout.write(f\"\\r[{'=' * done}{' ' * (50-done)}] {dl} bytes downloaded\")\n",
        "                sys.stdout.flush()\n",
        "                data = fileres.read(CHUNK_SIZE)\n",
        "            if filename.endswith('.zip'):\n",
        "              with ZipFile(tfile) as zfile:\n",
        "                zfile.extractall(destination_path)\n",
        "            else:\n",
        "              with tarfile.open(tfile.name) as tarfile:\n",
        "                tarfile.extractall(destination_path)\n",
        "            print(f'\\nDownloaded and uncompressed: {directory}')\n",
        "    except HTTPError as e:\n",
        "        print(f'Failed to load (likely expired) {download_url} to path {destination_path}')\n",
        "        continue\n",
        "    except OSError as e:\n",
        "        print(f'Failed to load {download_url} to path {destination_path}')\n",
        "        continue\n",
        "\n",
        "print('Data source import complete.')\n"
      ],
      "metadata": {
        "id": "nnYIBFgy7me9"
      },
      "cell_type": "code",
      "outputs": [],
      "execution_count": null
    },
    {
      "cell_type": "code",
      "source": [
        "# This Python 3 environment comes with many helpful analytics libraries installed\n",
        "# It is defined by the kaggle/python Docker image: https://github.com/kaggle/docker-python\n",
        "# For example, here's several helpful packages to load\n",
        "\n",
        "import numpy as np # linear algebra\n",
        "import pandas as pd # data processing, CSV file I/O (e.g. pd.read_csv)\n",
        "import seaborn as sns\n",
        "from sklearn.model_selection import train_test_split, KFold, cross_val_score\n",
        "import matplotlib.pyplot as plt\n",
        "# Input data files are available in the read-only \"../input/\" directory\n",
        "# For example, running this (by clicking run or pressing Shift+Enter) will list all files under the input directory\n",
        "from sklearn.preprocessing import MinMaxScaler, LabelEncoder, StandardScaler\n",
        "from sklearn.linear_model import Lasso, Ridge, SGDRegressor, LinearRegression\n",
        "\n",
        "\n",
        "import os\n",
        "for dirname, _, filenames in os.walk('/kaggle/input'):\n",
        "    for filename in filenames:\n",
        "        print(os.path.join(dirname, filename))\n",
        "\n",
        "# You can write up to 20GB to the current directory (/kaggle/working/) that gets preserved as output when you create a version using \"Save & Run All\"\n",
        "# You can also write temporary files to /kaggle/temp/, but they won't be saved outside of the current session"
      ],
      "metadata": {
        "_uuid": "8f2839f25d086af736a60e9eeb907d3b93b6e0e5",
        "_cell_guid": "b1076dfc-b9ad-4769-8c92-a6c4dae69d19",
        "execution": {
          "iopub.status.busy": "2024-09-12T19:54:08.259248Z",
          "iopub.execute_input": "2024-09-12T19:54:08.259763Z",
          "iopub.status.idle": "2024-09-12T19:54:08.283267Z",
          "shell.execute_reply.started": "2024-09-12T19:54:08.259718Z",
          "shell.execute_reply": "2024-09-12T19:54:08.28184Z"
        },
        "trusted": true,
        "id": "1cUsuvc57mfA",
        "outputId": "1b1242b8-665d-4a65-8e23-75df51d3ba11"
      },
      "execution_count": null,
      "outputs": [
        {
          "name": "stdout",
          "text": "/kaggle/input/playground-series-s4e9/sample_submission.csv\n/kaggle/input/playground-series-s4e9/train.csv\n/kaggle/input/playground-series-s4e9/test.csv\n",
          "output_type": "stream"
        }
      ]
    },
    {
      "cell_type": "code",
      "source": [
        "train = pd.read_csv('/kaggle/input/playground-series-s4e9/train.csv')\n",
        "test = pd.read_csv('/kaggle/input/playground-series-s4e9/test.csv')"
      ],
      "metadata": {
        "execution": {
          "iopub.status.busy": "2024-09-12T19:54:10.794204Z",
          "iopub.execute_input": "2024-09-12T19:54:10.794728Z",
          "iopub.status.idle": "2024-09-12T19:54:11.966469Z",
          "shell.execute_reply.started": "2024-09-12T19:54:10.794682Z",
          "shell.execute_reply": "2024-09-12T19:54:11.96522Z"
        },
        "trusted": true,
        "id": "TKbDrKtZ7mfB"
      },
      "execution_count": null,
      "outputs": []
    },
    {
      "cell_type": "code",
      "source": [
        "train = train.drop('id', axis=1)\n",
        "test = test.drop('id', axis=1)"
      ],
      "metadata": {
        "execution": {
          "iopub.status.busy": "2024-09-12T19:54:13.671077Z",
          "iopub.execute_input": "2024-09-12T19:54:13.671611Z",
          "iopub.status.idle": "2024-09-12T19:54:13.716328Z",
          "shell.execute_reply.started": "2024-09-12T19:54:13.671564Z",
          "shell.execute_reply": "2024-09-12T19:54:13.714862Z"
        },
        "trusted": true,
        "id": "KU9OyiuA7mfC"
      },
      "execution_count": null,
      "outputs": []
    },
    {
      "cell_type": "code",
      "source": [
        "train.shape"
      ],
      "metadata": {
        "execution": {
          "iopub.status.busy": "2024-09-12T19:54:15.433769Z",
          "iopub.execute_input": "2024-09-12T19:54:15.434255Z",
          "iopub.status.idle": "2024-09-12T19:54:15.443036Z",
          "shell.execute_reply.started": "2024-09-12T19:54:15.43421Z",
          "shell.execute_reply": "2024-09-12T19:54:15.441553Z"
        },
        "trusted": true,
        "id": "bHKo7R4a7mfC",
        "outputId": "c20c37a9-6cea-45dc-93e4-6a2b990cee06"
      },
      "execution_count": null,
      "outputs": [
        {
          "execution_count": 116,
          "output_type": "execute_result",
          "data": {
            "text/plain": "(188533, 12)"
          },
          "metadata": {}
        }
      ]
    },
    {
      "cell_type": "code",
      "source": [
        "train.info()"
      ],
      "metadata": {
        "execution": {
          "iopub.status.busy": "2024-09-12T19:54:17.129742Z",
          "iopub.execute_input": "2024-09-12T19:54:17.130738Z",
          "iopub.status.idle": "2024-09-12T19:54:17.340565Z",
          "shell.execute_reply.started": "2024-09-12T19:54:17.130672Z",
          "shell.execute_reply": "2024-09-12T19:54:17.338981Z"
        },
        "trusted": true,
        "id": "FlFjiqPp7mfC",
        "outputId": "c65a55de-8ee9-4b1f-ea18-85bfaa41c077"
      },
      "execution_count": null,
      "outputs": [
        {
          "name": "stdout",
          "text": "<class 'pandas.core.frame.DataFrame'>\nRangeIndex: 188533 entries, 0 to 188532\nData columns (total 12 columns):\n #   Column        Non-Null Count   Dtype \n---  ------        --------------   ----- \n 0   brand         188533 non-null  object\n 1   model         188533 non-null  object\n 2   model_year    188533 non-null  int64 \n 3   milage        188533 non-null  int64 \n 4   fuel_type     183450 non-null  object\n 5   engine        188533 non-null  object\n 6   transmission  188533 non-null  object\n 7   ext_col       188533 non-null  object\n 8   int_col       188533 non-null  object\n 9   accident      186081 non-null  object\n 10  clean_title   167114 non-null  object\n 11  price         188533 non-null  int64 \ndtypes: int64(3), object(9)\nmemory usage: 17.3+ MB\n",
          "output_type": "stream"
        }
      ]
    },
    {
      "cell_type": "code",
      "source": [
        "test.shape"
      ],
      "metadata": {
        "execution": {
          "iopub.status.busy": "2024-09-12T19:54:21.019149Z",
          "iopub.execute_input": "2024-09-12T19:54:21.019784Z",
          "iopub.status.idle": "2024-09-12T19:54:21.031211Z",
          "shell.execute_reply.started": "2024-09-12T19:54:21.019724Z",
          "shell.execute_reply": "2024-09-12T19:54:21.029961Z"
        },
        "trusted": true,
        "id": "eyCR8mZd7mfC",
        "outputId": "11fab07e-a490-4071-bf99-7fbc5deec67d"
      },
      "execution_count": null,
      "outputs": [
        {
          "execution_count": 118,
          "output_type": "execute_result",
          "data": {
            "text/plain": "(125690, 11)"
          },
          "metadata": {}
        }
      ]
    },
    {
      "cell_type": "code",
      "source": [
        "train.describe()"
      ],
      "metadata": {
        "execution": {
          "iopub.status.busy": "2024-09-12T19:54:22.329745Z",
          "iopub.execute_input": "2024-09-12T19:54:22.330681Z",
          "iopub.status.idle": "2024-09-12T19:54:22.371351Z",
          "shell.execute_reply.started": "2024-09-12T19:54:22.330633Z",
          "shell.execute_reply": "2024-09-12T19:54:22.370126Z"
        },
        "trusted": true,
        "id": "Ndbt0FkJ7mfD",
        "outputId": "62c94177-0687-4c9a-81da-c97097e97a05"
      },
      "execution_count": null,
      "outputs": [
        {
          "execution_count": 119,
          "output_type": "execute_result",
          "data": {
            "text/plain": "          model_year         milage         price\ncount  188533.000000  188533.000000  1.885330e+05\nmean     2015.829998   65705.295174  4.387802e+04\nstd         5.660967   49798.158076  7.881952e+04\nmin      1974.000000     100.000000  2.000000e+03\n25%      2013.000000   24115.000000  1.700000e+04\n50%      2017.000000   57785.000000  3.082500e+04\n75%      2020.000000   95400.000000  4.990000e+04\nmax      2024.000000  405000.000000  2.954083e+06",
            "text/html": "<div>\n<style scoped>\n    .dataframe tbody tr th:only-of-type {\n        vertical-align: middle;\n    }\n\n    .dataframe tbody tr th {\n        vertical-align: top;\n    }\n\n    .dataframe thead th {\n        text-align: right;\n    }\n</style>\n<table border=\"1\" class=\"dataframe\">\n  <thead>\n    <tr style=\"text-align: right;\">\n      <th></th>\n      <th>model_year</th>\n      <th>milage</th>\n      <th>price</th>\n    </tr>\n  </thead>\n  <tbody>\n    <tr>\n      <th>count</th>\n      <td>188533.000000</td>\n      <td>188533.000000</td>\n      <td>1.885330e+05</td>\n    </tr>\n    <tr>\n      <th>mean</th>\n      <td>2015.829998</td>\n      <td>65705.295174</td>\n      <td>4.387802e+04</td>\n    </tr>\n    <tr>\n      <th>std</th>\n      <td>5.660967</td>\n      <td>49798.158076</td>\n      <td>7.881952e+04</td>\n    </tr>\n    <tr>\n      <th>min</th>\n      <td>1974.000000</td>\n      <td>100.000000</td>\n      <td>2.000000e+03</td>\n    </tr>\n    <tr>\n      <th>25%</th>\n      <td>2013.000000</td>\n      <td>24115.000000</td>\n      <td>1.700000e+04</td>\n    </tr>\n    <tr>\n      <th>50%</th>\n      <td>2017.000000</td>\n      <td>57785.000000</td>\n      <td>3.082500e+04</td>\n    </tr>\n    <tr>\n      <th>75%</th>\n      <td>2020.000000</td>\n      <td>95400.000000</td>\n      <td>4.990000e+04</td>\n    </tr>\n    <tr>\n      <th>max</th>\n      <td>2024.000000</td>\n      <td>405000.000000</td>\n      <td>2.954083e+06</td>\n    </tr>\n  </tbody>\n</table>\n</div>"
          },
          "metadata": {}
        }
      ]
    },
    {
      "cell_type": "code",
      "source": [
        "train.describe(include='object')"
      ],
      "metadata": {
        "execution": {
          "iopub.status.busy": "2024-09-12T19:54:24.514843Z",
          "iopub.execute_input": "2024-09-12T19:54:24.515701Z",
          "iopub.status.idle": "2024-09-12T19:54:25.028771Z",
          "shell.execute_reply.started": "2024-09-12T19:54:24.515649Z",
          "shell.execute_reply": "2024-09-12T19:54:25.027265Z"
        },
        "trusted": true,
        "id": "41AvzHfr7mfD",
        "outputId": "deca2b9c-f32d-4827-d279-d8bcd71bc36f"
      },
      "execution_count": null,
      "outputs": [
        {
          "execution_count": 120,
          "output_type": "execute_result",
          "data": {
            "text/plain": "         brand      model fuel_type  \\\ncount   188533     188533    183450   \nunique      57       1897         7   \ntop       Ford  F-150 XLT  Gasoline   \nfreq     23088       2945    165940   \n\n                                              engine transmission ext_col  \\\ncount                                         188533       188533  188533   \nunique                                          1117           52     319   \ntop     355.0HP 5.3L 8 Cylinder Engine Gasoline Fuel          A/T   Black   \nfreq                                            3462        49904   48658   \n\n       int_col       accident clean_title  \ncount   188533         186081      167114  \nunique     156              2           1  \ntop      Black  None reported         Yes  \nfreq    107674         144514      167114  ",
            "text/html": "<div>\n<style scoped>\n    .dataframe tbody tr th:only-of-type {\n        vertical-align: middle;\n    }\n\n    .dataframe tbody tr th {\n        vertical-align: top;\n    }\n\n    .dataframe thead th {\n        text-align: right;\n    }\n</style>\n<table border=\"1\" class=\"dataframe\">\n  <thead>\n    <tr style=\"text-align: right;\">\n      <th></th>\n      <th>brand</th>\n      <th>model</th>\n      <th>fuel_type</th>\n      <th>engine</th>\n      <th>transmission</th>\n      <th>ext_col</th>\n      <th>int_col</th>\n      <th>accident</th>\n      <th>clean_title</th>\n    </tr>\n  </thead>\n  <tbody>\n    <tr>\n      <th>count</th>\n      <td>188533</td>\n      <td>188533</td>\n      <td>183450</td>\n      <td>188533</td>\n      <td>188533</td>\n      <td>188533</td>\n      <td>188533</td>\n      <td>186081</td>\n      <td>167114</td>\n    </tr>\n    <tr>\n      <th>unique</th>\n      <td>57</td>\n      <td>1897</td>\n      <td>7</td>\n      <td>1117</td>\n      <td>52</td>\n      <td>319</td>\n      <td>156</td>\n      <td>2</td>\n      <td>1</td>\n    </tr>\n    <tr>\n      <th>top</th>\n      <td>Ford</td>\n      <td>F-150 XLT</td>\n      <td>Gasoline</td>\n      <td>355.0HP 5.3L 8 Cylinder Engine Gasoline Fuel</td>\n      <td>A/T</td>\n      <td>Black</td>\n      <td>Black</td>\n      <td>None reported</td>\n      <td>Yes</td>\n    </tr>\n    <tr>\n      <th>freq</th>\n      <td>23088</td>\n      <td>2945</td>\n      <td>165940</td>\n      <td>3462</td>\n      <td>49904</td>\n      <td>48658</td>\n      <td>107674</td>\n      <td>144514</td>\n      <td>167114</td>\n    </tr>\n  </tbody>\n</table>\n</div>"
          },
          "metadata": {}
        }
      ]
    },
    {
      "cell_type": "code",
      "source": [
        "100* (train.isna().sum() / len(train)).sort_values(ascending=False)"
      ],
      "metadata": {
        "execution": {
          "iopub.status.busy": "2024-09-12T19:54:26.805773Z",
          "iopub.execute_input": "2024-09-12T19:54:26.806242Z",
          "iopub.status.idle": "2024-09-12T19:54:26.997765Z",
          "shell.execute_reply.started": "2024-09-12T19:54:26.8062Z",
          "shell.execute_reply": "2024-09-12T19:54:26.996417Z"
        },
        "trusted": true,
        "id": "u9Ufq3BR7mfD",
        "outputId": "f980b555-c036-4323-a890-6599880cd251"
      },
      "execution_count": null,
      "outputs": [
        {
          "execution_count": 121,
          "output_type": "execute_result",
          "data": {
            "text/plain": "clean_title     11.360876\nfuel_type        2.696080\naccident         1.300568\nbrand            0.000000\nmodel            0.000000\nmodel_year       0.000000\nmilage           0.000000\nengine           0.000000\ntransmission     0.000000\next_col          0.000000\nint_col          0.000000\nprice            0.000000\ndtype: float64"
          },
          "metadata": {}
        }
      ]
    },
    {
      "cell_type": "code",
      "source": [
        "sns.displot(np.log(train['price']), kde=True)"
      ],
      "metadata": {
        "execution": {
          "iopub.status.busy": "2024-09-12T13:08:49.299949Z",
          "iopub.execute_input": "2024-09-12T13:08:49.300569Z",
          "iopub.status.idle": "2024-09-12T13:08:51.119943Z",
          "shell.execute_reply.started": "2024-09-12T13:08:49.300515Z",
          "shell.execute_reply": "2024-09-12T13:08:51.118836Z"
        },
        "trusted": true,
        "id": "8G6eVFl47mfD",
        "outputId": "ee154f9a-f183-4a54-e7d8-f659b22a3a3e"
      },
      "execution_count": null,
      "outputs": [
        {
          "name": "stderr",
          "text": "/opt/conda/lib/python3.10/site-packages/seaborn/_oldcore.py:1119: FutureWarning: use_inf_as_na option is deprecated and will be removed in a future version. Convert inf values to NaN before operating instead.\n  with pd.option_context('mode.use_inf_as_na', True):\n",
          "output_type": "stream"
        },
        {
          "execution_count": 234,
          "output_type": "execute_result",
          "data": {
            "text/plain": "<seaborn.axisgrid.FacetGrid at 0x79bc549aabc0>"
          },
          "metadata": {}
        },
        {
          "output_type": "display_data",
          "data": {
            "text/plain": "<Figure size 500x500 with 1 Axes>",
            "image/png": "[encoded data removed]"
          },
          "metadata": {}
        }
      ]
    },
    {
      "cell_type": "code",
      "source": [
        "train['clean_title'].value_counts()"
      ],
      "metadata": {
        "execution": {
          "iopub.status.busy": "2024-09-12T19:54:33.056911Z",
          "iopub.execute_input": "2024-09-12T19:54:33.05792Z",
          "iopub.status.idle": "2024-09-12T19:54:33.097957Z",
          "shell.execute_reply.started": "2024-09-12T19:54:33.057868Z",
          "shell.execute_reply": "2024-09-12T19:54:33.096526Z"
        },
        "trusted": true,
        "id": "6ck5l3Bi7mfD",
        "outputId": "856904a4-69ed-4bfd-b41e-2dad7454ac1c"
      },
      "execution_count": null,
      "outputs": [
        {
          "execution_count": 122,
          "output_type": "execute_result",
          "data": {
            "text/plain": "clean_title\nYes    167114\nName: count, dtype: int64"
          },
          "metadata": {}
        }
      ]
    },
    {
      "cell_type": "code",
      "source": [
        "df = pd.concat([train, test], axis=0, ignore_index=True)"
      ],
      "metadata": {
        "execution": {
          "iopub.status.busy": "2024-09-12T19:54:34.3062Z",
          "iopub.execute_input": "2024-09-12T19:54:34.307524Z",
          "iopub.status.idle": "2024-09-12T19:54:34.333813Z",
          "shell.execute_reply.started": "2024-09-12T19:54:34.307426Z",
          "shell.execute_reply": "2024-09-12T19:54:34.332541Z"
        },
        "trusted": true,
        "id": "j2v2wFqa7mfE"
      },
      "execution_count": null,
      "outputs": []
    },
    {
      "cell_type": "code",
      "source": [
        "df['brand'].unique()"
      ],
      "metadata": {
        "execution": {
          "iopub.status.busy": "2024-09-12T19:54:36.243357Z",
          "iopub.execute_input": "2024-09-12T19:54:36.243819Z",
          "iopub.status.idle": "2024-09-12T19:54:36.284631Z",
          "shell.execute_reply.started": "2024-09-12T19:54:36.243779Z",
          "shell.execute_reply": "2024-09-12T19:54:36.283577Z"
        },
        "trusted": true,
        "id": "d6t3s32y7mfE",
        "outputId": "93bec6d1-576f-44a6-d3e1-c00cad803b99"
      },
      "execution_count": null,
      "outputs": [
        {
          "execution_count": 124,
          "output_type": "execute_result",
          "data": {
            "text/plain": "array(['MINI', 'Lincoln', 'Chevrolet', 'Genesis', 'Mercedes-Benz', 'Audi',\n       'Ford', 'BMW', 'Tesla', 'Cadillac', 'Land', 'GMC', 'Toyota',\n       'Hyundai', 'Volvo', 'Volkswagen', 'Buick', 'Rivian', 'RAM',\n       'Hummer', 'Alfa', 'INFINITI', 'Jeep', 'Porsche', 'McLaren',\n       'Honda', 'Lexus', 'Dodge', 'Nissan', 'Jaguar', 'Acura', 'Kia',\n       'Mitsubishi', 'Rolls-Royce', 'Maserati', 'Pontiac', 'Saturn',\n       'Bentley', 'Mazda', 'Subaru', 'Ferrari', 'Aston', 'Lamborghini',\n       'Chrysler', 'Lucid', 'Lotus', 'Scion', 'smart', 'Karma',\n       'Plymouth', 'Suzuki', 'FIAT', 'Saab', 'Bugatti', 'Mercury',\n       'Polestar', 'Maybach'], dtype=object)"
          },
          "metadata": {}
        }
      ]
    },
    {
      "cell_type": "code",
      "source": [
        "avarage_price_by_brand = train.groupby('brand')['price'].agg(['mean', 'median'])\n",
        "avarage_price_by_brand.sort_values(by='median', ascending=False).astype('int')"
      ],
      "metadata": {
        "execution": {
          "iopub.status.busy": "2024-09-12T19:54:38.968001Z",
          "iopub.execute_input": "2024-09-12T19:54:38.96903Z",
          "iopub.status.idle": "2024-09-12T19:54:39.020315Z",
          "shell.execute_reply.started": "2024-09-12T19:54:38.968976Z",
          "shell.execute_reply": "2024-09-12T19:54:39.018908Z"
        },
        "trusted": true,
        "id": "4naI0Mk87mfE",
        "outputId": "bd01bf60-d18b-419b-a5fb-de4bfa76c131"
      },
      "execution_count": null,
      "outputs": [
        {
          "execution_count": 125,
          "output_type": "execute_result",
          "data": {
            "text/plain": "                 mean  median\nbrand                        \nBugatti        169600  220000\nLamborghini    159176  102000\nMcLaren        123261   87500\nRivian          81089   78000\nRolls-Royce    135488   77500\nFerrari        116751   75500\nBentley        129272   73600\nAston          112364   67650\nLucid           63310   56000\nMaybach         53566   54999\nTesla           56445   47500\nPorsche         70899   45900\nMaserati        61459   43900\nRAM             51290   40036\nGenesis         53556   39999\nAlfa            51993   39900\nLand            53204   38998\nJaguar          48147   38000\nMercedes-Benz   51244   36570\nPolestar        41754   33500\nGMC             38936   32250\nChevrolet       41836   32000\nFord            40511   32000\nBMW             43659   31000\nCadillac        45659   30500\nKarma           37384   30000\nKia             38072   30000\nAudi            41004   29900\nJeep            34116   29182\nVolvo           30879   26500\nBuick           29617   26288\nINFINITI        33371   26000\nLexus           34801   25500\nLincoln         30712   23500\nLotus           26436   22750\nToyota          29147   22000\nMazda           25332   20995\nAcura           28628   20653\nSaab            28594   20099\nFIAT            31045   19249\nHyundai         25936   19000\nSuzuki          30124   19000\nVolkswagen      26339   18900\nDodge           33277   18749\nNissan          29246   18000\nSubaru          21521   17500\nHonda           22800   15900\nChrysler        27010   14950\nMercury         26081   14900\nScion           14652   13675\nMINI            17162   12992\nSaturn          18204   12500\nPontiac         22528   10999\nHummer          15355   10900\nMitsubishi      18911   10300\nsmart           34664    9995\nPlymouth        28095    9495",
            "text/html": "<div>\n<style scoped>\n    .dataframe tbody tr th:only-of-type {\n        vertical-align: middle;\n    }\n\n    .dataframe tbody tr th {\n        vertical-align: top;\n    }\n\n    .dataframe thead th {\n        text-align: right;\n    }\n</style>\n<table border=\"1\" class=\"dataframe\">\n  <thead>\n    <tr style=\"text-align: right;\">\n      <th></th>\n      <th>mean</th>\n      <th>median</th>\n    </tr>\n    <tr>\n      <th>brand</th>\n      <th></th>\n      <th></th>\n    </tr>\n  </thead>\n  <tbody>\n    <tr>\n      <th>Bugatti</th>\n      <td>169600</td>\n      <td>220000</td>\n    </tr>\n    <tr>\n      <th>Lamborghini</th>\n      <td>159176</td>\n      <td>102000</td>\n    </tr>\n    <tr>\n      <th>McLaren</th>\n      <td>123261</td>\n      <td>87500</td>\n    </tr>\n    <tr>\n      <th>Rivian</th>\n      <td>81089</td>\n      <td>78000</td>\n    </tr>\n    <tr>\n      <th>Rolls-Royce</th>\n      <td>135488</td>\n      <td>77500</td>\n    </tr>\n    <tr>\n      <th>Ferrari</th>\n      <td>116751</td>\n      <td>75500</td>\n    </tr>\n    <tr>\n      <th>Bentley</th>\n      <td>129272</td>\n      <td>73600</td>\n    </tr>\n    <tr>\n      <th>Aston</th>\n      <td>112364</td>\n      <td>67650</td>\n    </tr>\n    <tr>\n      <th>Lucid</th>\n      <td>63310</td>\n      <td>56000</td>\n    </tr>\n    <tr>\n      <th>Maybach</th>\n      <td>53566</td>\n      <td>54999</td>\n    </tr>\n    <tr>\n      <th>Tesla</th>\n      <td>56445</td>\n      <td>47500</td>\n    </tr>\n    <tr>\n      <th>Porsche</th>\n      <td>70899</td>\n      <td>45900</td>\n    </tr>\n    <tr>\n      <th>Maserati</th>\n      <td>61459</td>\n      <td>43900</td>\n    </tr>\n    <tr>\n      <th>RAM</th>\n      <td>51290</td>\n      <td>40036</td>\n    </tr>\n    <tr>\n      <th>Genesis</th>\n      <td>53556</td>\n      <td>39999</td>\n    </tr>\n    <tr>\n      <th>Alfa</th>\n      <td>51993</td>\n      <td>39900</td>\n    </tr>\n    <tr>\n      <th>Land</th>\n      <td>53204</td>\n      <td>38998</td>\n    </tr>\n    <tr>\n      <th>Jaguar</th>\n      <td>48147</td>\n      <td>38000</td>\n    </tr>\n    <tr>\n      <th>Mercedes-Benz</th>\n      <td>51244</td>\n      <td>36570</td>\n    </tr>\n    <tr>\n      <th>Polestar</th>\n      <td>41754</td>\n      <td>33500</td>\n    </tr>\n    <tr>\n      <th>GMC</th>\n      <td>38936</td>\n      <td>32250</td>\n    </tr>\n    <tr>\n      <th>Chevrolet</th>\n      <td>41836</td>\n      <td>32000</td>\n    </tr>\n    <tr>\n      <th>Ford</th>\n      <td>40511</td>\n      <td>32000</td>\n    </tr>\n    <tr>\n      <th>BMW</th>\n      <td>43659</td>\n      <td>31000</td>\n    </tr>\n    <tr>\n      <th>Cadillac</th>\n      <td>45659</td>\n      <td>30500</td>\n    </tr>\n    <tr>\n      <th>Karma</th>\n      <td>37384</td>\n      <td>30000</td>\n    </tr>\n    <tr>\n      <th>Kia</th>\n      <td>38072</td>\n      <td>30000</td>\n    </tr>\n    <tr>\n      <th>Audi</th>\n      <td>41004</td>\n      <td>29900</td>\n    </tr>\n    <tr>\n      <th>Jeep</th>\n      <td>34116</td>\n      <td>29182</td>\n    </tr>\n    <tr>\n      <th>Volvo</th>\n      <td>30879</td>\n      <td>26500</td>\n    </tr>\n    <tr>\n      <th>Buick</th>\n      <td>29617</td>\n      <td>26288</td>\n    </tr>\n    <tr>\n      <th>INFINITI</th>\n      <td>33371</td>\n      <td>26000</td>\n    </tr>\n    <tr>\n      <th>Lexus</th>\n      <td>34801</td>\n      <td>25500</td>\n    </tr>\n    <tr>\n      <th>Lincoln</th>\n      <td>30712</td>\n      <td>23500</td>\n    </tr>\n    <tr>\n      <th>Lotus</th>\n      <td>26436</td>\n      <td>22750</td>\n    </tr>\n    <tr>\n      <th>Toyota</th>\n      <td>29147</td>\n      <td>22000</td>\n    </tr>\n    <tr>\n      <th>Mazda</th>\n      <td>25332</td>\n      <td>20995</td>\n    </tr>\n    <tr>\n      <th>Acura</th>\n      <td>28628</td>\n      <td>20653</td>\n    </tr>\n    <tr>\n      <th>Saab</th>\n      <td>28594</td>\n      <td>20099</td>\n    </tr>\n    <tr>\n      <th>FIAT</th>\n      <td>31045</td>\n      <td>19249</td>\n    </tr>\n    <tr>\n      <th>Hyundai</th>\n      <td>25936</td>\n      <td>19000</td>\n    </tr>\n    <tr>\n      <th>Suzuki</th>\n      <td>30124</td>\n      <td>19000</td>\n    </tr>\n    <tr>\n      <th>Volkswagen</th>\n      <td>26339</td>\n      <td>18900</td>\n    </tr>\n    <tr>\n      <th>Dodge</th>\n      <td>33277</td>\n      <td>18749</td>\n    </tr>\n    <tr>\n      <th>Nissan</th>\n      <td>29246</td>\n      <td>18000</td>\n    </tr>\n    <tr>\n      <th>Subaru</th>\n      <td>21521</td>\n      <td>17500</td>\n    </tr>\n    <tr>\n      <th>Honda</th>\n      <td>22800</td>\n      <td>15900</td>\n    </tr>\n    <tr>\n      <th>Chrysler</th>\n      <td>27010</td>\n      <td>14950</td>\n    </tr>\n    <tr>\n      <th>Mercury</th>\n      <td>26081</td>\n      <td>14900</td>\n    </tr>\n    <tr>\n      <th>Scion</th>\n      <td>14652</td>\n      <td>13675</td>\n    </tr>\n    <tr>\n      <th>MINI</th>\n      <td>17162</td>\n      <td>12992</td>\n    </tr>\n    <tr>\n      <th>Saturn</th>\n      <td>18204</td>\n      <td>12500</td>\n    </tr>\n    <tr>\n      <th>Pontiac</th>\n      <td>22528</td>\n      <td>10999</td>\n    </tr>\n    <tr>\n      <th>Hummer</th>\n      <td>15355</td>\n      <td>10900</td>\n    </tr>\n    <tr>\n      <th>Mitsubishi</th>\n      <td>18911</td>\n      <td>10300</td>\n    </tr>\n    <tr>\n      <th>smart</th>\n      <td>34664</td>\n      <td>9995</td>\n    </tr>\n    <tr>\n      <th>Plymouth</th>\n      <td>28095</td>\n      <td>9495</td>\n    </tr>\n  </tbody>\n</table>\n</div>"
          },
          "metadata": {}
        }
      ]
    },
    {
      "cell_type": "code",
      "source": [
        "lux_auto = avarage_price_by_brand[avarage_price_by_brand['mean'] > 30000]\n",
        "lux_auto.index"
      ],
      "metadata": {
        "execution": {
          "iopub.status.busy": "2024-09-12T19:54:42.666825Z",
          "iopub.execute_input": "2024-09-12T19:54:42.667405Z",
          "iopub.status.idle": "2024-09-12T19:54:42.683094Z",
          "shell.execute_reply.started": "2024-09-12T19:54:42.667347Z",
          "shell.execute_reply": "2024-09-12T19:54:42.681585Z"
        },
        "trusted": true,
        "id": "kJCybkqw7mfE",
        "outputId": "1fd80783-7f56-4710-9bce-fac7bf7ba33f"
      },
      "execution_count": null,
      "outputs": [
        {
          "execution_count": 126,
          "output_type": "execute_result",
          "data": {
            "text/plain": "Index(['Alfa', 'Aston', 'Audi', 'BMW', 'Bentley', 'Bugatti', 'Cadillac',\n       'Chevrolet', 'Dodge', 'FIAT', 'Ferrari', 'Ford', 'GMC', 'Genesis',\n       'INFINITI', 'Jaguar', 'Jeep', 'Karma', 'Kia', 'Lamborghini', 'Land',\n       'Lexus', 'Lincoln', 'Lucid', 'Maserati', 'Maybach', 'McLaren',\n       'Mercedes-Benz', 'Polestar', 'Porsche', 'RAM', 'Rivian', 'Rolls-Royce',\n       'Suzuki', 'Tesla', 'Volvo', 'smart'],\n      dtype='object', name='brand')"
          },
          "metadata": {}
        }
      ]
    },
    {
      "cell_type": "code",
      "source": [
        "df['premium_auto'] = df['brand'].apply(lambda x: 1 if x in lux_auto.index else 0)\n",
        "df.head()"
      ],
      "metadata": {
        "execution": {
          "iopub.status.busy": "2024-09-12T19:54:45.979851Z",
          "iopub.execute_input": "2024-09-12T19:54:45.980343Z",
          "iopub.status.idle": "2024-09-12T19:54:46.724892Z",
          "shell.execute_reply.started": "2024-09-12T19:54:45.980297Z",
          "shell.execute_reply": "2024-09-12T19:54:46.723595Z"
        },
        "trusted": true,
        "id": "PmnfD4aA7mfE",
        "outputId": "892335c2-6c38-4057-d83b-39f7f1a617a1"
      },
      "execution_count": null,
      "outputs": [
        {
          "execution_count": 127,
          "output_type": "execute_result",
          "data": {
            "text/plain": "           brand              model  model_year  milage      fuel_type  \\\n0           MINI      Cooper S Base        2007  213000       Gasoline   \n1        Lincoln              LS V8        2002  143250       Gasoline   \n2      Chevrolet  Silverado 2500 LT        2002  136731  E85 Flex Fuel   \n3        Genesis   G90 5.0 Ultimate        2017   19500       Gasoline   \n4  Mercedes-Benz        Metris Base        2021    7388       Gasoline   \n\n                                              engine  \\\n0       172.0HP 1.6L 4 Cylinder Engine Gasoline Fuel   \n1       252.0HP 3.9L 8 Cylinder Engine Gasoline Fuel   \n2  320.0HP 5.3L 8 Cylinder Engine Flex Fuel Capab...   \n3       420.0HP 5.0L 8 Cylinder Engine Gasoline Fuel   \n4       208.0HP 2.0L 4 Cylinder Engine Gasoline Fuel   \n\n                     transmission ext_col int_col  \\\n0                             A/T  Yellow    Gray   \n1                             A/T  Silver   Beige   \n2                             A/T    Blue    Gray   \n3  Transmission w/Dual Shift Mode   Black   Black   \n4                     7-Speed A/T   Black   Beige   \n\n                                 accident clean_title    price  premium_auto  \n0                           None reported         Yes   4200.0             0  \n1  At least 1 accident or damage reported         Yes   4999.0             1  \n2                           None reported         Yes  13900.0             1  \n3                           None reported         Yes  45000.0             1  \n4                           None reported         Yes  97500.0             1  ",
            "text/html": "<div>\n<style scoped>\n    .dataframe tbody tr th:only-of-type {\n        vertical-align: middle;\n    }\n\n    .dataframe tbody tr th {\n        vertical-align: top;\n    }\n\n    .dataframe thead th {\n        text-align: right;\n    }\n</style>\n<table border=\"1\" class=\"dataframe\">\n  <thead>\n    <tr style=\"text-align: right;\">\n      <th></th>\n      <th>brand</th>\n      <th>model</th>\n      <th>model_year</th>\n      <th>milage</th>\n      <th>fuel_type</th>\n      <th>engine</th>\n      <th>transmission</th>\n      <th>ext_col</th>\n      <th>int_col</th>\n      <th>accident</th>\n      <th>clean_title</th>\n      <th>price</th>\n      <th>premium_auto</th>\n    </tr>\n  </thead>\n  <tbody>\n    <tr>\n      <th>0</th>\n      <td>MINI</td>\n      <td>Cooper S Base</td>\n      <td>2007</td>\n      <td>213000</td>\n      <td>Gasoline</td>\n      <td>172.0HP 1.6L 4 Cylinder Engine Gasoline Fuel</td>\n      <td>A/T</td>\n      <td>Yellow</td>\n      <td>Gray</td>\n      <td>None reported</td>\n      <td>Yes</td>\n      <td>4200.0</td>\n      <td>0</td>\n    </tr>\n    <tr>\n      <th>1</th>\n      <td>Lincoln</td>\n      <td>LS V8</td>\n      <td>2002</td>\n      <td>143250</td>\n      <td>Gasoline</td>\n      <td>252.0HP 3.9L 8 Cylinder Engine Gasoline Fuel</td>\n      <td>A/T</td>\n      <td>Silver</td>\n      <td>Beige</td>\n      <td>At least 1 accident or damage reported</td>\n      <td>Yes</td>\n      <td>4999.0</td>\n      <td>1</td>\n    </tr>\n    <tr>\n      <th>2</th>\n      <td>Chevrolet</td>\n      <td>Silverado 2500 LT</td>\n      <td>2002</td>\n      <td>136731</td>\n      <td>E85 Flex Fuel</td>\n      <td>320.0HP 5.3L 8 Cylinder Engine Flex Fuel Capab...</td>\n      <td>A/T</td>\n      <td>Blue</td>\n      <td>Gray</td>\n      <td>None reported</td>\n      <td>Yes</td>\n      <td>13900.0</td>\n      <td>1</td>\n    </tr>\n    <tr>\n      <th>3</th>\n      <td>Genesis</td>\n      <td>G90 5.0 Ultimate</td>\n      <td>2017</td>\n      <td>19500</td>\n      <td>Gasoline</td>\n      <td>420.0HP 5.0L 8 Cylinder Engine Gasoline Fuel</td>\n      <td>Transmission w/Dual Shift Mode</td>\n      <td>Black</td>\n      <td>Black</td>\n      <td>None reported</td>\n      <td>Yes</td>\n      <td>45000.0</td>\n      <td>1</td>\n    </tr>\n    <tr>\n      <th>4</th>\n      <td>Mercedes-Benz</td>\n      <td>Metris Base</td>\n      <td>2021</td>\n      <td>7388</td>\n      <td>Gasoline</td>\n      <td>208.0HP 2.0L 4 Cylinder Engine Gasoline Fuel</td>\n      <td>7-Speed A/T</td>\n      <td>Black</td>\n      <td>Beige</td>\n      <td>None reported</td>\n      <td>Yes</td>\n      <td>97500.0</td>\n      <td>1</td>\n    </tr>\n  </tbody>\n</table>\n</div>"
          },
          "metadata": {}
        }
      ]
    },
    {
      "cell_type": "code",
      "source": [
        "horsepower = []\n",
        "engine = []\n",
        "num_of_cylinders = []\n",
        "for row in df['engine'][:25]:\n",
        "    hp = row.split()[0]\n",
        "    if 'HP' in hp:\n",
        "        horsepower.append(hp.replace('HP', ''))\n",
        "    else:\n",
        "        horsepower.append(0)\n",
        "    cylinder = row.split()[2]\n",
        "    if row.split()[3] == 'Cylinder':\n",
        "        num_of_cylinders.append(cylinder)\n",
        "    if row.split()[1].startswith('V'):\n",
        "         num_of_cylinders.append(row.split()[1])\n",
        "    print(row.split())\n",
        "horsepower\n",
        "num_of_cylinders"
      ],
      "metadata": {
        "execution": {
          "iopub.status.busy": "2024-09-12T20:25:39.216111Z",
          "iopub.execute_input": "2024-09-12T20:25:39.216621Z",
          "iopub.status.idle": "2024-09-12T20:25:39.23655Z",
          "shell.execute_reply.started": "2024-09-12T20:25:39.216574Z",
          "shell.execute_reply": "2024-09-12T20:25:39.234802Z"
        },
        "trusted": true,
        "id": "4QqA7umI7mfE",
        "outputId": "2ac485a2-e415-48f2-a2db-26fda68bcaad"
      },
      "execution_count": null,
      "outputs": [
        {
          "name": "stdout",
          "text": "['172.0HP', '1.6L', '4', 'Cylinder', 'Engine', 'Gasoline', 'Fuel']\n['252.0HP', '3.9L', '8', 'Cylinder', 'Engine', 'Gasoline', 'Fuel']\n['320.0HP', '5.3L', '8', 'Cylinder', 'Engine', 'Flex', 'Fuel', 'Capability']\n['420.0HP', '5.0L', '8', 'Cylinder', 'Engine', 'Gasoline', 'Fuel']\n['208.0HP', '2.0L', '4', 'Cylinder', 'Engine', 'Gasoline', 'Fuel']\n['252.0HP', '2.0L', '4', 'Cylinder', 'Engine', 'Gasoline', 'Fuel']\n['333.0HP', '3.0L', 'V6', 'Cylinder', 'Engine', 'Gasoline', 'Fuel']\n['355.0HP', '5.3L', '8', 'Cylinder', 'Engine', 'Flex', 'Fuel', 'Capability']\n['2.7L', 'V6', '24V', 'PDI', 'DOHC', 'Twin', 'Turbo']\n['425.0HP', '3.0L', 'Straight', '6', 'Cylinder', 'Engine', 'Gasoline', 'Fuel']\n['312.0HP', '3.6L', 'V6', 'Cylinder', 'Engine', 'Gasoline', 'Fuel']\n['Electric', 'Motor', 'Electric', 'Fuel', 'System']\n['420.0HP', '6.2L', '8', 'Cylinder', 'Engine', 'Gasoline', 'Fuel']\n['333.0HP', '3.0L', 'V6', 'Cylinder', 'Engine', 'Gasoline', 'Fuel']\n['523.0HP', '4.4L', '8', 'Cylinder', 'Engine', 'Gasoline', 'Fuel']\n['503.0HP', '4.0L', '8', 'Cylinder', 'Engine', 'Gasoline', 'Fuel']\n['420.0HP', '6.2L', '8', 'Cylinder', 'Engine', 'Gasoline', 'Fuel']\n['395.0HP', '3.0L', 'Straight', '6', 'Cylinder', 'Engine', 'Gasoline/Mild', 'Electric', 'Hybrid']\n['310.0HP', '4.6L', '8', 'Cylinder', 'Engine', 'Gasoline', 'Fuel']\n['469.0HP', '4.0L', '8', 'Cylinder', 'Engine', 'Gasoline', 'Fuel']\n['5.2L', 'V10', '40V', 'PDI', 'DOHC']\n['429.0HP', '5.0L', '8', 'Cylinder', 'Engine', 'Gasoline', 'Fuel']\n['210.0HP', '3.7L', 'V6', 'Cylinder', 'Engine', 'Gasoline', 'Fuel']\n['335.0HP', '3.0L', 'V6', 'Cylinder', 'Engine', 'Gasoline/Mild', 'Electric', 'Hybrid']\n['316.0HP', '2.0L', '4', 'Cylinder', 'Engine', 'Gasoline', 'Fuel']\n",
          "output_type": "stream"
        },
        {
          "execution_count": 156,
          "output_type": "execute_result",
          "data": {
            "text/plain": "['4',\n '8',\n '8',\n '8',\n '4',\n '4',\n 'V6',\n '8',\n 'V6',\n 'V6',\n '8',\n 'V6',\n '8',\n '8',\n '8',\n '8',\n '8',\n 'V10',\n '8',\n 'V6',\n 'V6',\n '4']"
          },
          "metadata": {}
        }
      ]
    },
    {
      "cell_type": "code",
      "source": [
        "lexus_data.mean()"
      ],
      "metadata": {
        "execution": {
          "iopub.status.busy": "2024-09-12T19:20:00.857068Z",
          "iopub.execute_input": "2024-09-12T19:20:00.857717Z",
          "iopub.status.idle": "2024-09-12T19:20:02.816735Z",
          "shell.execute_reply.started": "2024-09-12T19:20:00.857656Z",
          "shell.execute_reply": "2024-09-12T19:20:02.812091Z"
        },
        "trusted": true,
        "id": "ysRTLPx87mfE",
        "outputId": "8acee7cf-9d68-47a8-a4dc-545763cf4fc1"
      },
      "execution_count": null,
      "outputs": [
        {
          "traceback": [
            "\u001b[0;31m---------------------------------------------------------------------------\u001b[0m",
            "\u001b[0;31mTypeError\u001b[0m                                 Traceback (most recent call last)",
            "Cell \u001b[0;32mIn[90], line 1\u001b[0m\n\u001b[0;32m----> 1\u001b[0m \u001b[43mlexus_data\u001b[49m\u001b[38;5;241;43m.\u001b[39;49m\u001b[43mmean\u001b[49m\u001b[43m(\u001b[49m\u001b[43m)\u001b[49m\n",
            "File \u001b[0;32m/opt/conda/lib/python3.10/site-packages/pandas/core/frame.py:11693\u001b[0m, in \u001b[0;36mDataFrame.mean\u001b[0;34m(self, axis, skipna, numeric_only, **kwargs)\u001b[0m\n\u001b[1;32m  11685\u001b[0m \u001b[38;5;129m@doc\u001b[39m(make_doc(\u001b[38;5;124m\"\u001b[39m\u001b[38;5;124mmean\u001b[39m\u001b[38;5;124m\"\u001b[39m, ndim\u001b[38;5;241m=\u001b[39m\u001b[38;5;241m2\u001b[39m))\n\u001b[1;32m  11686\u001b[0m \u001b[38;5;28;01mdef\u001b[39;00m \u001b[38;5;21mmean\u001b[39m(\n\u001b[1;32m  11687\u001b[0m     \u001b[38;5;28mself\u001b[39m,\n\u001b[0;32m   (...)\u001b[0m\n\u001b[1;32m  11691\u001b[0m     \u001b[38;5;241m*\u001b[39m\u001b[38;5;241m*\u001b[39mkwargs,\n\u001b[1;32m  11692\u001b[0m ):\n\u001b[0;32m> 11693\u001b[0m     result \u001b[38;5;241m=\u001b[39m \u001b[38;5;28;43msuper\u001b[39;49m\u001b[43m(\u001b[49m\u001b[43m)\u001b[49m\u001b[38;5;241;43m.\u001b[39;49m\u001b[43mmean\u001b[49m\u001b[43m(\u001b[49m\u001b[43maxis\u001b[49m\u001b[43m,\u001b[49m\u001b[43m \u001b[49m\u001b[43mskipna\u001b[49m\u001b[43m,\u001b[49m\u001b[43m \u001b[49m\u001b[43mnumeric_only\u001b[49m\u001b[43m,\u001b[49m\u001b[43m \u001b[49m\u001b[38;5;241;43m*\u001b[39;49m\u001b[38;5;241;43m*\u001b[39;49m\u001b[43mkwargs\u001b[49m\u001b[43m)\u001b[49m\n\u001b[1;32m  11694\u001b[0m     \u001b[38;5;28;01mif\u001b[39;00m \u001b[38;5;28misinstance\u001b[39m(result, Series):\n\u001b[1;32m  11695\u001b[0m         result \u001b[38;5;241m=\u001b[39m result\u001b[38;5;241m.\u001b[39m__finalize__(\u001b[38;5;28mself\u001b[39m, method\u001b[38;5;241m=\u001b[39m\u001b[38;5;124m\"\u001b[39m\u001b[38;5;124mmean\u001b[39m\u001b[38;5;124m\"\u001b[39m)\n",
            "File \u001b[0;32m/opt/conda/lib/python3.10/site-packages/pandas/core/generic.py:12420\u001b[0m, in \u001b[0;36mNDFrame.mean\u001b[0;34m(self, axis, skipna, numeric_only, **kwargs)\u001b[0m\n\u001b[1;32m  12413\u001b[0m \u001b[38;5;28;01mdef\u001b[39;00m \u001b[38;5;21mmean\u001b[39m(\n\u001b[1;32m  12414\u001b[0m     \u001b[38;5;28mself\u001b[39m,\n\u001b[1;32m  12415\u001b[0m     axis: Axis \u001b[38;5;241m|\u001b[39m \u001b[38;5;28;01mNone\u001b[39;00m \u001b[38;5;241m=\u001b[39m \u001b[38;5;241m0\u001b[39m,\n\u001b[0;32m   (...)\u001b[0m\n\u001b[1;32m  12418\u001b[0m     \u001b[38;5;241m*\u001b[39m\u001b[38;5;241m*\u001b[39mkwargs,\n\u001b[1;32m  12419\u001b[0m ) \u001b[38;5;241m-\u001b[39m\u001b[38;5;241m>\u001b[39m Series \u001b[38;5;241m|\u001b[39m \u001b[38;5;28mfloat\u001b[39m:\n\u001b[0;32m> 12420\u001b[0m     \u001b[38;5;28;01mreturn\u001b[39;00m \u001b[38;5;28;43mself\u001b[39;49m\u001b[38;5;241;43m.\u001b[39;49m\u001b[43m_stat_function\u001b[49m\u001b[43m(\u001b[49m\n\u001b[1;32m  12421\u001b[0m \u001b[43m        \u001b[49m\u001b[38;5;124;43m\"\u001b[39;49m\u001b[38;5;124;43mmean\u001b[39;49m\u001b[38;5;124;43m\"\u001b[39;49m\u001b[43m,\u001b[49m\u001b[43m \u001b[49m\u001b[43mnanops\u001b[49m\u001b[38;5;241;43m.\u001b[39;49m\u001b[43mnanmean\u001b[49m\u001b[43m,\u001b[49m\u001b[43m \u001b[49m\u001b[43maxis\u001b[49m\u001b[43m,\u001b[49m\u001b[43m \u001b[49m\u001b[43mskipna\u001b[49m\u001b[43m,\u001b[49m\u001b[43m \u001b[49m\u001b[43mnumeric_only\u001b[49m\u001b[43m,\u001b[49m\u001b[43m \u001b[49m\u001b[38;5;241;43m*\u001b[39;49m\u001b[38;5;241;43m*\u001b[39;49m\u001b[43mkwargs\u001b[49m\n\u001b[1;32m  12422\u001b[0m \u001b[43m    \u001b[49m\u001b[43m)\u001b[49m\n",
            "File \u001b[0;32m/opt/conda/lib/python3.10/site-packages/pandas/core/generic.py:12377\u001b[0m, in \u001b[0;36mNDFrame._stat_function\u001b[0;34m(self, name, func, axis, skipna, numeric_only, **kwargs)\u001b[0m\n\u001b[1;32m  12373\u001b[0m nv\u001b[38;5;241m.\u001b[39mvalidate_func(name, (), kwargs)\n\u001b[1;32m  12375\u001b[0m validate_bool_kwarg(skipna, \u001b[38;5;124m\"\u001b[39m\u001b[38;5;124mskipna\u001b[39m\u001b[38;5;124m\"\u001b[39m, none_allowed\u001b[38;5;241m=\u001b[39m\u001b[38;5;28;01mFalse\u001b[39;00m)\n\u001b[0;32m> 12377\u001b[0m \u001b[38;5;28;01mreturn\u001b[39;00m \u001b[38;5;28;43mself\u001b[39;49m\u001b[38;5;241;43m.\u001b[39;49m\u001b[43m_reduce\u001b[49m\u001b[43m(\u001b[49m\n\u001b[1;32m  12378\u001b[0m \u001b[43m    \u001b[49m\u001b[43mfunc\u001b[49m\u001b[43m,\u001b[49m\u001b[43m \u001b[49m\u001b[43mname\u001b[49m\u001b[38;5;241;43m=\u001b[39;49m\u001b[43mname\u001b[49m\u001b[43m,\u001b[49m\u001b[43m \u001b[49m\u001b[43maxis\u001b[49m\u001b[38;5;241;43m=\u001b[39;49m\u001b[43maxis\u001b[49m\u001b[43m,\u001b[49m\u001b[43m \u001b[49m\u001b[43mskipna\u001b[49m\u001b[38;5;241;43m=\u001b[39;49m\u001b[43mskipna\u001b[49m\u001b[43m,\u001b[49m\u001b[43m \u001b[49m\u001b[43mnumeric_only\u001b[49m\u001b[38;5;241;43m=\u001b[39;49m\u001b[43mnumeric_only\u001b[49m\n\u001b[1;32m  12379\u001b[0m \u001b[43m\u001b[49m\u001b[43m)\u001b[49m\n",
            "File \u001b[0;32m/opt/conda/lib/python3.10/site-packages/pandas/core/frame.py:11562\u001b[0m, in \u001b[0;36mDataFrame._reduce\u001b[0;34m(self, op, name, axis, skipna, numeric_only, filter_type, **kwds)\u001b[0m\n\u001b[1;32m  11558\u001b[0m     df \u001b[38;5;241m=\u001b[39m df\u001b[38;5;241m.\u001b[39mT\n\u001b[1;32m  11560\u001b[0m \u001b[38;5;66;03m# After possibly _get_data and transposing, we are now in the\u001b[39;00m\n\u001b[1;32m  11561\u001b[0m \u001b[38;5;66;03m#  simple case where we can use BlockManager.reduce\u001b[39;00m\n\u001b[0;32m> 11562\u001b[0m res \u001b[38;5;241m=\u001b[39m \u001b[43mdf\u001b[49m\u001b[38;5;241;43m.\u001b[39;49m\u001b[43m_mgr\u001b[49m\u001b[38;5;241;43m.\u001b[39;49m\u001b[43mreduce\u001b[49m\u001b[43m(\u001b[49m\u001b[43mblk_func\u001b[49m\u001b[43m)\u001b[49m\n\u001b[1;32m  11563\u001b[0m out \u001b[38;5;241m=\u001b[39m df\u001b[38;5;241m.\u001b[39m_constructor_from_mgr(res, axes\u001b[38;5;241m=\u001b[39mres\u001b[38;5;241m.\u001b[39maxes)\u001b[38;5;241m.\u001b[39miloc[\u001b[38;5;241m0\u001b[39m]\n\u001b[1;32m  11564\u001b[0m \u001b[38;5;28;01mif\u001b[39;00m out_dtype \u001b[38;5;129;01mis\u001b[39;00m \u001b[38;5;129;01mnot\u001b[39;00m \u001b[38;5;28;01mNone\u001b[39;00m \u001b[38;5;129;01mand\u001b[39;00m out\u001b[38;5;241m.\u001b[39mdtype \u001b[38;5;241m!=\u001b[39m \u001b[38;5;124m\"\u001b[39m\u001b[38;5;124mboolean\u001b[39m\u001b[38;5;124m\"\u001b[39m:\n",
            "File \u001b[0;32m/opt/conda/lib/python3.10/site-packages/pandas/core/internals/managers.py:1500\u001b[0m, in \u001b[0;36mBlockManager.reduce\u001b[0;34m(self, func)\u001b[0m\n\u001b[1;32m   1498\u001b[0m res_blocks: \u001b[38;5;28mlist\u001b[39m[Block] \u001b[38;5;241m=\u001b[39m []\n\u001b[1;32m   1499\u001b[0m \u001b[38;5;28;01mfor\u001b[39;00m blk \u001b[38;5;129;01min\u001b[39;00m \u001b[38;5;28mself\u001b[39m\u001b[38;5;241m.\u001b[39mblocks:\n\u001b[0;32m-> 1500\u001b[0m     nbs \u001b[38;5;241m=\u001b[39m \u001b[43mblk\u001b[49m\u001b[38;5;241;43m.\u001b[39;49m\u001b[43mreduce\u001b[49m\u001b[43m(\u001b[49m\u001b[43mfunc\u001b[49m\u001b[43m)\u001b[49m\n\u001b[1;32m   1501\u001b[0m     res_blocks\u001b[38;5;241m.\u001b[39mextend(nbs)\n\u001b[1;32m   1503\u001b[0m index \u001b[38;5;241m=\u001b[39m Index([\u001b[38;5;28;01mNone\u001b[39;00m])  \u001b[38;5;66;03m# placeholder\u001b[39;00m\n",
            "File \u001b[0;32m/opt/conda/lib/python3.10/site-packages/pandas/core/internals/blocks.py:404\u001b[0m, in \u001b[0;36mBlock.reduce\u001b[0;34m(self, func)\u001b[0m\n\u001b[1;32m    398\u001b[0m \u001b[38;5;129m@final\u001b[39m\n\u001b[1;32m    399\u001b[0m \u001b[38;5;28;01mdef\u001b[39;00m \u001b[38;5;21mreduce\u001b[39m(\u001b[38;5;28mself\u001b[39m, func) \u001b[38;5;241m-\u001b[39m\u001b[38;5;241m>\u001b[39m \u001b[38;5;28mlist\u001b[39m[Block]:\n\u001b[1;32m    400\u001b[0m     \u001b[38;5;66;03m# We will apply the function and reshape the result into a single-row\u001b[39;00m\n\u001b[1;32m    401\u001b[0m     \u001b[38;5;66;03m#  Block with the same mgr_locs; squeezing will be done at a higher level\u001b[39;00m\n\u001b[1;32m    402\u001b[0m     \u001b[38;5;28;01massert\u001b[39;00m \u001b[38;5;28mself\u001b[39m\u001b[38;5;241m.\u001b[39mndim \u001b[38;5;241m==\u001b[39m \u001b[38;5;241m2\u001b[39m\n\u001b[0;32m--> 404\u001b[0m     result \u001b[38;5;241m=\u001b[39m \u001b[43mfunc\u001b[49m\u001b[43m(\u001b[49m\u001b[38;5;28;43mself\u001b[39;49m\u001b[38;5;241;43m.\u001b[39;49m\u001b[43mvalues\u001b[49m\u001b[43m)\u001b[49m\n\u001b[1;32m    406\u001b[0m     \u001b[38;5;28;01mif\u001b[39;00m \u001b[38;5;28mself\u001b[39m\u001b[38;5;241m.\u001b[39mvalues\u001b[38;5;241m.\u001b[39mndim \u001b[38;5;241m==\u001b[39m \u001b[38;5;241m1\u001b[39m:\n\u001b[1;32m    407\u001b[0m         res_values \u001b[38;5;241m=\u001b[39m result\n",
            "File \u001b[0;32m/opt/conda/lib/python3.10/site-packages/pandas/core/frame.py:11481\u001b[0m, in \u001b[0;36mDataFrame._reduce.<locals>.blk_func\u001b[0;34m(values, axis)\u001b[0m\n\u001b[1;32m  11479\u001b[0m         \u001b[38;5;28;01mreturn\u001b[39;00m np\u001b[38;5;241m.\u001b[39marray([result])\n\u001b[1;32m  11480\u001b[0m \u001b[38;5;28;01melse\u001b[39;00m:\n\u001b[0;32m> 11481\u001b[0m     \u001b[38;5;28;01mreturn\u001b[39;00m \u001b[43mop\u001b[49m\u001b[43m(\u001b[49m\u001b[43mvalues\u001b[49m\u001b[43m,\u001b[49m\u001b[43m \u001b[49m\u001b[43maxis\u001b[49m\u001b[38;5;241;43m=\u001b[39;49m\u001b[43maxis\u001b[49m\u001b[43m,\u001b[49m\u001b[43m \u001b[49m\u001b[43mskipna\u001b[49m\u001b[38;5;241;43m=\u001b[39;49m\u001b[43mskipna\u001b[49m\u001b[43m,\u001b[49m\u001b[43m \u001b[49m\u001b[38;5;241;43m*\u001b[39;49m\u001b[38;5;241;43m*\u001b[39;49m\u001b[43mkwds\u001b[49m\u001b[43m)\u001b[49m\n",
            "File \u001b[0;32m/opt/conda/lib/python3.10/site-packages/pandas/core/nanops.py:147\u001b[0m, in \u001b[0;36mbottleneck_switch.__call__.<locals>.f\u001b[0;34m(values, axis, skipna, **kwds)\u001b[0m\n\u001b[1;32m    145\u001b[0m         result \u001b[38;5;241m=\u001b[39m alt(values, axis\u001b[38;5;241m=\u001b[39maxis, skipna\u001b[38;5;241m=\u001b[39mskipna, \u001b[38;5;241m*\u001b[39m\u001b[38;5;241m*\u001b[39mkwds)\n\u001b[1;32m    146\u001b[0m \u001b[38;5;28;01melse\u001b[39;00m:\n\u001b[0;32m--> 147\u001b[0m     result \u001b[38;5;241m=\u001b[39m \u001b[43malt\u001b[49m\u001b[43m(\u001b[49m\u001b[43mvalues\u001b[49m\u001b[43m,\u001b[49m\u001b[43m \u001b[49m\u001b[43maxis\u001b[49m\u001b[38;5;241;43m=\u001b[39;49m\u001b[43maxis\u001b[49m\u001b[43m,\u001b[49m\u001b[43m \u001b[49m\u001b[43mskipna\u001b[49m\u001b[38;5;241;43m=\u001b[39;49m\u001b[43mskipna\u001b[49m\u001b[43m,\u001b[49m\u001b[43m \u001b[49m\u001b[38;5;241;43m*\u001b[39;49m\u001b[38;5;241;43m*\u001b[39;49m\u001b[43mkwds\u001b[49m\u001b[43m)\u001b[49m\n\u001b[1;32m    149\u001b[0m \u001b[38;5;28;01mreturn\u001b[39;00m result\n",
            "File \u001b[0;32m/opt/conda/lib/python3.10/site-packages/pandas/core/nanops.py:404\u001b[0m, in \u001b[0;36m_datetimelike_compat.<locals>.new_func\u001b[0;34m(values, axis, skipna, mask, **kwargs)\u001b[0m\n\u001b[1;32m    401\u001b[0m \u001b[38;5;28;01mif\u001b[39;00m datetimelike \u001b[38;5;129;01mand\u001b[39;00m mask \u001b[38;5;129;01mis\u001b[39;00m \u001b[38;5;28;01mNone\u001b[39;00m:\n\u001b[1;32m    402\u001b[0m     mask \u001b[38;5;241m=\u001b[39m isna(values)\n\u001b[0;32m--> 404\u001b[0m result \u001b[38;5;241m=\u001b[39m \u001b[43mfunc\u001b[49m\u001b[43m(\u001b[49m\u001b[43mvalues\u001b[49m\u001b[43m,\u001b[49m\u001b[43m \u001b[49m\u001b[43maxis\u001b[49m\u001b[38;5;241;43m=\u001b[39;49m\u001b[43maxis\u001b[49m\u001b[43m,\u001b[49m\u001b[43m \u001b[49m\u001b[43mskipna\u001b[49m\u001b[38;5;241;43m=\u001b[39;49m\u001b[43mskipna\u001b[49m\u001b[43m,\u001b[49m\u001b[43m \u001b[49m\u001b[43mmask\u001b[49m\u001b[38;5;241;43m=\u001b[39;49m\u001b[43mmask\u001b[49m\u001b[43m,\u001b[49m\u001b[43m \u001b[49m\u001b[38;5;241;43m*\u001b[39;49m\u001b[38;5;241;43m*\u001b[39;49m\u001b[43mkwargs\u001b[49m\u001b[43m)\u001b[49m\n\u001b[1;32m    406\u001b[0m \u001b[38;5;28;01mif\u001b[39;00m datetimelike:\n\u001b[1;32m    407\u001b[0m     result \u001b[38;5;241m=\u001b[39m _wrap_results(result, orig_values\u001b[38;5;241m.\u001b[39mdtype, fill_value\u001b[38;5;241m=\u001b[39miNaT)\n",
            "File \u001b[0;32m/opt/conda/lib/python3.10/site-packages/pandas/core/nanops.py:719\u001b[0m, in \u001b[0;36mnanmean\u001b[0;34m(values, axis, skipna, mask)\u001b[0m\n\u001b[1;32m    716\u001b[0m     dtype_count \u001b[38;5;241m=\u001b[39m dtype\n\u001b[1;32m    718\u001b[0m count \u001b[38;5;241m=\u001b[39m _get_counts(values\u001b[38;5;241m.\u001b[39mshape, mask, axis, dtype\u001b[38;5;241m=\u001b[39mdtype_count)\n\u001b[0;32m--> 719\u001b[0m the_sum \u001b[38;5;241m=\u001b[39m \u001b[43mvalues\u001b[49m\u001b[38;5;241;43m.\u001b[39;49m\u001b[43msum\u001b[49m\u001b[43m(\u001b[49m\u001b[43maxis\u001b[49m\u001b[43m,\u001b[49m\u001b[43m \u001b[49m\u001b[43mdtype\u001b[49m\u001b[38;5;241;43m=\u001b[39;49m\u001b[43mdtype_sum\u001b[49m\u001b[43m)\u001b[49m\n\u001b[1;32m    720\u001b[0m the_sum \u001b[38;5;241m=\u001b[39m _ensure_numeric(the_sum)\n\u001b[1;32m    722\u001b[0m \u001b[38;5;28;01mif\u001b[39;00m axis \u001b[38;5;129;01mis\u001b[39;00m \u001b[38;5;129;01mnot\u001b[39;00m \u001b[38;5;28;01mNone\u001b[39;00m \u001b[38;5;129;01mand\u001b[39;00m \u001b[38;5;28mgetattr\u001b[39m(the_sum, \u001b[38;5;124m\"\u001b[39m\u001b[38;5;124mndim\u001b[39m\u001b[38;5;124m\"\u001b[39m, \u001b[38;5;28;01mFalse\u001b[39;00m):\n",
            "File \u001b[0;32m/opt/conda/lib/python3.10/site-packages/numpy/core/_methods.py:49\u001b[0m, in \u001b[0;36m_sum\u001b[0;34m(a, axis, dtype, out, keepdims, initial, where)\u001b[0m\n\u001b[1;32m     47\u001b[0m \u001b[38;5;28;01mdef\u001b[39;00m \u001b[38;5;21m_sum\u001b[39m(a, axis\u001b[38;5;241m=\u001b[39m\u001b[38;5;28;01mNone\u001b[39;00m, dtype\u001b[38;5;241m=\u001b[39m\u001b[38;5;28;01mNone\u001b[39;00m, out\u001b[38;5;241m=\u001b[39m\u001b[38;5;28;01mNone\u001b[39;00m, keepdims\u001b[38;5;241m=\u001b[39m\u001b[38;5;28;01mFalse\u001b[39;00m,\n\u001b[1;32m     48\u001b[0m          initial\u001b[38;5;241m=\u001b[39m_NoValue, where\u001b[38;5;241m=\u001b[39m\u001b[38;5;28;01mTrue\u001b[39;00m):\n\u001b[0;32m---> 49\u001b[0m     \u001b[38;5;28;01mreturn\u001b[39;00m \u001b[43mumr_sum\u001b[49m\u001b[43m(\u001b[49m\u001b[43ma\u001b[49m\u001b[43m,\u001b[49m\u001b[43m \u001b[49m\u001b[43maxis\u001b[49m\u001b[43m,\u001b[49m\u001b[43m \u001b[49m\u001b[43mdtype\u001b[49m\u001b[43m,\u001b[49m\u001b[43m \u001b[49m\u001b[43mout\u001b[49m\u001b[43m,\u001b[49m\u001b[43m \u001b[49m\u001b[43mkeepdims\u001b[49m\u001b[43m,\u001b[49m\u001b[43m \u001b[49m\u001b[43minitial\u001b[49m\u001b[43m,\u001b[49m\u001b[43m \u001b[49m\u001b[43mwhere\u001b[49m\u001b[43m)\u001b[49m\n",
            "\u001b[0;31mTypeError\u001b[0m: unsupported operand type(s) for +: 'int' and 'str'"
          ],
          "ename": "TypeError",
          "evalue": "unsupported operand type(s) for +: 'int' and 'str'",
          "output_type": "error"
        }
      ]
    },
    {
      "cell_type": "code",
      "source": [
        "train['brand'].value_counts()"
      ],
      "metadata": {
        "execution": {
          "iopub.status.busy": "2024-09-12T18:27:08.075613Z",
          "iopub.execute_input": "2024-09-12T18:27:08.076032Z",
          "iopub.status.idle": "2024-09-12T18:27:08.114671Z",
          "shell.execute_reply.started": "2024-09-12T18:27:08.075995Z",
          "shell.execute_reply": "2024-09-12T18:27:08.113511Z"
        },
        "trusted": true,
        "id": "hazs6r-R7mfE",
        "outputId": "9d449c51-14c1-4c11-8dab-db0c2c1d541a"
      },
      "execution_count": null,
      "outputs": [
        {
          "execution_count": 15,
          "output_type": "execute_result",
          "data": {
            "text/plain": "brand\nFord             21348\nMercedes-Benz    16530\nBMW              15461\nChevrolet        15170\nAudi              9111\nPorsche           9025\nToyota            7862\nLand              7857\nLexus             7622\nJeep              5330\nCadillac          4330\nNissan            3536\nRAM               3391\nINFINITI          3103\nGMC               2970\nDodge             2967\nMazda             2393\nSubaru            2281\nLincoln           2261\nHonda             1828\nAcura             1738\nHyundai           1714\nKia               1659\nVolkswagen        1608\nJaguar            1064\nMINI              1035\nBentley           1012\nMaserati           836\nGenesis            826\nBuick              720\nChrysler           693\nVolvo              656\nMitsubishi         532\nPontiac            530\nRolls-Royce        521\nHummer             515\nAlfa               508\nLamborghini        500\nTesla              343\nFerrari            271\nAston              216\nMcLaren            188\nSaturn             144\nScion              114\nRivian              85\nMercury             55\nLotus               48\nFIAT                37\nSaab                22\nLucid               17\nPlymouth             7\nSuzuki               6\nBugatti              5\nKarma                4\nMaybach              3\nPolestar             1\nsmart                1\nName: count, dtype: int64"
          },
          "metadata": {}
        }
      ]
    },
    {
      "cell_type": "code",
      "source": [
        "# cat_columns = df.select_dtypes(include=['object'])\n",
        "# missing_cols = [col for col in cat_columns.columns if cat_columns[col].isna().any()]\n",
        "#missing_cols = ['fuel_type', 'accident']"
      ],
      "metadata": {
        "execution": {
          "iopub.status.busy": "2024-09-12T09:42:17.404285Z",
          "iopub.execute_input": "2024-09-12T09:42:17.404731Z",
          "iopub.status.idle": "2024-09-12T09:42:17.411654Z",
          "shell.execute_reply.started": "2024-09-12T09:42:17.404687Z",
          "shell.execute_reply": "2024-09-12T09:42:17.410396Z"
        },
        "trusted": true,
        "id": "YlrA4sy77mfE"
      },
      "execution_count": null,
      "outputs": []
    },
    {
      "cell_type": "code",
      "source": [
        "# for col in missing_cols:\n",
        "#     df.loc[:, col] = df.loc[:, col].fillna(df.loc[:, col].mode()[0])"
      ],
      "metadata": {
        "execution": {
          "iopub.status.busy": "2024-09-12T09:42:20.200811Z",
          "iopub.execute_input": "2024-09-12T09:42:20.201245Z",
          "iopub.status.idle": "2024-09-12T09:42:20.408352Z",
          "shell.execute_reply.started": "2024-09-12T09:42:20.201198Z",
          "shell.execute_reply": "2024-09-12T09:42:20.407007Z"
        },
        "trusted": true,
        "id": "KybAG4nv7mfE"
      },
      "execution_count": null,
      "outputs": []
    },
    {
      "cell_type": "code",
      "source": [
        "encoder=LabelEncoder()\n",
        "train['brand']=encoder.fit_transform(train['brand'])\n",
        "train['model']=encoder.fit_transform(train['model'])\n",
        "#df['fuel_type']=encoder.fit_transform(df['fuel_type'])\n",
        "train['engine']=encoder.fit_transform(train['engine'])\n",
        "train['transmission']=encoder.fit_transform(train['transmission'])\n",
        "train['ext_col']=encoder.fit_transform(train['ext_col'])\n",
        "train['int_col']=encoder.fit_transform(train['int_col'])\n",
        "train['accident']=encoder.fit_transform(train['accident'])\n",
        "#df['clean_title']=encoder.fit_transform(df['clean_title'])"
      ],
      "metadata": {
        "execution": {
          "iopub.status.busy": "2024-09-12T18:27:30.886374Z",
          "iopub.execute_input": "2024-09-12T18:27:30.886878Z",
          "iopub.status.idle": "2024-09-12T18:27:31.242797Z",
          "shell.execute_reply.started": "2024-09-12T18:27:30.88683Z",
          "shell.execute_reply": "2024-09-12T18:27:31.241567Z"
        },
        "trusted": true,
        "id": "irgLHQM47mfE"
      },
      "execution_count": null,
      "outputs": []
    },
    {
      "cell_type": "code",
      "source": [
        "train = pd.get_dummies(train, dtype='int')"
      ],
      "metadata": {
        "execution": {
          "iopub.status.busy": "2024-09-12T18:27:33.549486Z",
          "iopub.execute_input": "2024-09-12T18:27:33.550005Z",
          "iopub.status.idle": "2024-09-12T18:27:33.606862Z",
          "shell.execute_reply.started": "2024-09-12T18:27:33.549959Z",
          "shell.execute_reply": "2024-09-12T18:27:33.605563Z"
        },
        "trusted": true,
        "id": "WmrXIvvv7mfF"
      },
      "execution_count": null,
      "outputs": []
    },
    {
      "cell_type": "code",
      "source": [
        "train.head()"
      ],
      "metadata": {
        "execution": {
          "iopub.status.busy": "2024-09-12T18:27:36.949933Z",
          "iopub.execute_input": "2024-09-12T18:27:36.950423Z",
          "iopub.status.idle": "2024-09-12T18:27:36.970781Z",
          "shell.execute_reply.started": "2024-09-12T18:27:36.950377Z",
          "shell.execute_reply": "2024-09-12T18:27:36.969509Z"
        },
        "trusted": true,
        "id": "QRaxg20X7mfF",
        "outputId": "9ea0691b-ab5e-466b-acd6-b7ab42d64937"
      },
      "execution_count": null,
      "outputs": [
        {
          "execution_count": 19,
          "output_type": "execute_result",
          "data": {
            "text/plain": "   brand  model  model_year  milage  engine  transmission  ext_col  int_col  \\\n0     31    493        2007  213000     110            38      306       71   \n1     28    925        2002  143250     358            38      257       10   \n2      9   1567        2002  136731     627            38       37       71   \n3     16    755        2017   19500     846            49       28       14   \n4     36   1072        2021    7388     252            23       28       10   \n\n   accident  price  fuel_type_Diesel  fuel_type_E85 Flex Fuel  \\\n0         1   4200                 0                        0   \n1         0   4999                 0                        0   \n2         1  13900                 0                        1   \n3         1  45000                 0                        0   \n4         1  97500                 0                        0   \n\n   fuel_type_Gasoline  fuel_type_Hybrid  fuel_type_Plug-In Hybrid  \\\n0                   1                 0                         0   \n1                   1                 0                         0   \n2                   0                 0                         0   \n3                   1                 0                         0   \n4                   1                 0                         0   \n\n   fuel_type_not supported  fuel_type_–  \n0                        0            0  \n1                        0            0  \n2                        0            0  \n3                        0            0  \n4                        0            0  ",
            "text/html": "<div>\n<style scoped>\n    .dataframe tbody tr th:only-of-type {\n        vertical-align: middle;\n    }\n\n    .dataframe tbody tr th {\n        vertical-align: top;\n    }\n\n    .dataframe thead th {\n        text-align: right;\n    }\n</style>\n<table border=\"1\" class=\"dataframe\">\n  <thead>\n    <tr style=\"text-align: right;\">\n      <th></th>\n      <th>brand</th>\n      <th>model</th>\n      <th>model_year</th>\n      <th>milage</th>\n      <th>engine</th>\n      <th>transmission</th>\n      <th>ext_col</th>\n      <th>int_col</th>\n      <th>accident</th>\n      <th>price</th>\n      <th>fuel_type_Diesel</th>\n      <th>fuel_type_E85 Flex Fuel</th>\n      <th>fuel_type_Gasoline</th>\n      <th>fuel_type_Hybrid</th>\n      <th>fuel_type_Plug-In Hybrid</th>\n      <th>fuel_type_not supported</th>\n      <th>fuel_type_–</th>\n    </tr>\n  </thead>\n  <tbody>\n    <tr>\n      <th>0</th>\n      <td>31</td>\n      <td>493</td>\n      <td>2007</td>\n      <td>213000</td>\n      <td>110</td>\n      <td>38</td>\n      <td>306</td>\n      <td>71</td>\n      <td>1</td>\n      <td>4200</td>\n      <td>0</td>\n      <td>0</td>\n      <td>1</td>\n      <td>0</td>\n      <td>0</td>\n      <td>0</td>\n      <td>0</td>\n    </tr>\n    <tr>\n      <th>1</th>\n      <td>28</td>\n      <td>925</td>\n      <td>2002</td>\n      <td>143250</td>\n      <td>358</td>\n      <td>38</td>\n      <td>257</td>\n      <td>10</td>\n      <td>0</td>\n      <td>4999</td>\n      <td>0</td>\n      <td>0</td>\n      <td>1</td>\n      <td>0</td>\n      <td>0</td>\n      <td>0</td>\n      <td>0</td>\n    </tr>\n    <tr>\n      <th>2</th>\n      <td>9</td>\n      <td>1567</td>\n      <td>2002</td>\n      <td>136731</td>\n      <td>627</td>\n      <td>38</td>\n      <td>37</td>\n      <td>71</td>\n      <td>1</td>\n      <td>13900</td>\n      <td>0</td>\n      <td>1</td>\n      <td>0</td>\n      <td>0</td>\n      <td>0</td>\n      <td>0</td>\n      <td>0</td>\n    </tr>\n    <tr>\n      <th>3</th>\n      <td>16</td>\n      <td>755</td>\n      <td>2017</td>\n      <td>19500</td>\n      <td>846</td>\n      <td>49</td>\n      <td>28</td>\n      <td>14</td>\n      <td>1</td>\n      <td>45000</td>\n      <td>0</td>\n      <td>0</td>\n      <td>1</td>\n      <td>0</td>\n      <td>0</td>\n      <td>0</td>\n      <td>0</td>\n    </tr>\n    <tr>\n      <th>4</th>\n      <td>36</td>\n      <td>1072</td>\n      <td>2021</td>\n      <td>7388</td>\n      <td>252</td>\n      <td>23</td>\n      <td>28</td>\n      <td>10</td>\n      <td>1</td>\n      <td>97500</td>\n      <td>0</td>\n      <td>0</td>\n      <td>1</td>\n      <td>0</td>\n      <td>0</td>\n      <td>0</td>\n      <td>0</td>\n    </tr>\n  </tbody>\n</table>\n</div>"
          },
          "metadata": {}
        }
      ]
    },
    {
      "cell_type": "code",
      "source": [
        "train.shape"
      ],
      "metadata": {
        "execution": {
          "iopub.status.busy": "2024-09-12T18:27:57.303781Z",
          "iopub.execute_input": "2024-09-12T18:27:57.304275Z",
          "iopub.status.idle": "2024-09-12T18:27:57.313715Z",
          "shell.execute_reply.started": "2024-09-12T18:27:57.304227Z",
          "shell.execute_reply": "2024-09-12T18:27:57.312262Z"
        },
        "trusted": true,
        "id": "6CxrH27c7mfF",
        "outputId": "2fa53fd0-cd7a-4f43-9d55-13cbe63317ca"
      },
      "execution_count": null,
      "outputs": [
        {
          "execution_count": 20,
          "output_type": "execute_result",
          "data": {
            "text/plain": "(162610, 17)"
          },
          "metadata": {}
        }
      ]
    },
    {
      "cell_type": "code",
      "source": [
        "# train_df = df.iloc[:188533, :]\n",
        "# test_df = df.iloc[188533:, :]"
      ],
      "metadata": {
        "execution": {
          "iopub.status.busy": "2024-09-12T13:09:37.650913Z",
          "iopub.execute_input": "2024-09-12T13:09:37.651353Z",
          "iopub.status.idle": "2024-09-12T13:09:37.656903Z",
          "shell.execute_reply.started": "2024-09-12T13:09:37.651301Z",
          "shell.execute_reply": "2024-09-12T13:09:37.655819Z"
        },
        "trusted": true,
        "id": "-nPccQeg7mfF"
      },
      "execution_count": null,
      "outputs": []
    },
    {
      "cell_type": "code",
      "source": [
        "X = train.copy()"
      ],
      "metadata": {
        "execution": {
          "iopub.status.busy": "2024-09-12T18:28:58.50128Z",
          "iopub.execute_input": "2024-09-12T18:28:58.501813Z",
          "iopub.status.idle": "2024-09-12T18:28:58.582725Z",
          "shell.execute_reply.started": "2024-09-12T18:28:58.501765Z",
          "shell.execute_reply": "2024-09-12T18:28:58.581404Z"
        },
        "trusted": true,
        "id": "-7ir8-Hz7mfF"
      },
      "execution_count": null,
      "outputs": []
    },
    {
      "cell_type": "code",
      "source": [
        "y = X['price']\n",
        "X = X.drop('price', axis=1)"
      ],
      "metadata": {
        "execution": {
          "iopub.status.busy": "2024-09-12T18:29:01.742806Z",
          "iopub.execute_input": "2024-09-12T18:29:01.743255Z",
          "iopub.status.idle": "2024-09-12T18:29:01.757972Z",
          "shell.execute_reply.started": "2024-09-12T18:29:01.743215Z",
          "shell.execute_reply": "2024-09-12T18:29:01.756751Z"
        },
        "trusted": true,
        "id": "tlt0pQPs7mfF"
      },
      "execution_count": null,
      "outputs": []
    },
    {
      "cell_type": "code",
      "source": [
        "y"
      ],
      "metadata": {
        "execution": {
          "iopub.status.busy": "2024-09-12T18:29:11.785699Z",
          "iopub.execute_input": "2024-09-12T18:29:11.786189Z",
          "iopub.status.idle": "2024-09-12T18:29:11.795575Z",
          "shell.execute_reply.started": "2024-09-12T18:29:11.786133Z",
          "shell.execute_reply": "2024-09-12T18:29:11.794332Z"
        },
        "trusted": true,
        "id": "h-CL2Z8g7mfF",
        "outputId": "465b4c21-6283-4052-b052-b013ddb30c2c"
      },
      "execution_count": null,
      "outputs": [
        {
          "execution_count": 24,
          "output_type": "execute_result",
          "data": {
            "text/plain": "0          4200\n1          4999\n2         13900\n3         45000\n4         97500\n          ...  \n188527    14500\n188528    27500\n188529    30000\n188530    86900\n188532    28995\nName: price, Length: 162610, dtype: int64"
          },
          "metadata": {}
        }
      ]
    },
    {
      "cell_type": "code",
      "source": [
        "len(y)"
      ],
      "metadata": {
        "execution": {
          "iopub.status.busy": "2024-09-12T18:29:35.941626Z",
          "iopub.execute_input": "2024-09-12T18:29:35.942105Z",
          "iopub.status.idle": "2024-09-12T18:29:35.95018Z",
          "shell.execute_reply.started": "2024-09-12T18:29:35.94206Z",
          "shell.execute_reply": "2024-09-12T18:29:35.948871Z"
        },
        "trusted": true,
        "id": "1VGyvvBx7mfF",
        "outputId": "459d18c3-6e72-498c-e049-671da35863d4"
      },
      "execution_count": null,
      "outputs": [
        {
          "execution_count": 26,
          "output_type": "execute_result",
          "data": {
            "text/plain": "162610"
          },
          "metadata": {}
        }
      ]
    },
    {
      "cell_type": "code",
      "source": [
        "# #for test split 0.3 is the best !!!\n",
        "from sklearn.model_selection import train_test_split\n",
        "from sklearn.preprocessing import QuantileTransformer\n",
        "from sklearn.preprocessing import Normalizer\n",
        "from catboost import CatBoostRegressor\n",
        "\n",
        "\n",
        "clf_catboost = CatBoostRegressor(iterations=600,\n",
        "                                  learning_rate=0.0311,\n",
        "#                                  depth=6,\n",
        "#                                  l2_leaf_reg=3,\n",
        "                                # border_count=100,\n",
        "                                 verbose=0)  # verbose=0 to suppress output during cross-validation\n",
        "\n",
        "\n",
        "# Define k-fold cross-validation\n",
        "n_splits = 5  # number of folds\n",
        "kf = KFold(n_splits=n_splits, shuffle=True, random_state=42)\n",
        "\n",
        "# Perform cross-validation and evaluate RMSE\n",
        "rmse_scores = -cross_val_score(clf_catboost, X, y, scoring='neg_root_mean_squared_error', cv=kf)\n",
        "\n",
        "# Calculate mean and standard deviation of RMSE\n",
        "mean_rmse = np.mean(rmse_scores)\n",
        "std_rmse = np.std(rmse_scores)\n",
        "\n",
        "print(f\"Mean RMSE: {mean_rmse:.4f}\")\n",
        "print(f\"Standard Deviation of RMSE: {std_rmse:.4f}\")\n",
        "\n",
        "clf_catboost.fit(X, y)"
      ],
      "metadata": {
        "execution": {
          "iopub.status.busy": "2024-09-12T18:56:51.607286Z",
          "iopub.execute_input": "2024-09-12T18:56:51.607822Z",
          "iopub.status.idle": "2024-09-12T18:57:43.178675Z",
          "shell.execute_reply.started": "2024-09-12T18:56:51.607776Z",
          "shell.execute_reply": "2024-09-12T18:57:43.177322Z"
        },
        "trusted": true,
        "id": "a-BIQiM_7mfF",
        "outputId": "0fce5d3c-f8b8-479c-cff1-eeaedb77f6f1"
      },
      "execution_count": null,
      "outputs": [
        {
          "name": "stdout",
          "text": "Mean RMSE: 70834.3248\nStandard Deviation of RMSE: 4331.4978\n",
          "output_type": "stream"
        },
        {
          "execution_count": 35,
          "output_type": "execute_result",
          "data": {
            "text/plain": "<catboost.core.CatBoostRegressor at 0x78c5589632b0>"
          },
          "metadata": {}
        }
      ]
    },
    {
      "cell_type": "code",
      "source": [
        "from sklearn.model_selection import train_test_split, KFold, cross_val_score\n",
        "from lightgbm import LGBMRegressor\n",
        "import numpy as np\n",
        "\n",
        "# Initialize the LGBMRegressor model\n",
        "clf_lightgbm = LGBMRegressor(n_estimators=700,\n",
        "                             #learning_rate=0.0311,\n",
        "                             #max_depth=6,\n",
        "                             #reg_alpha=3,\n",
        "                             #num_leaves=31,\n",
        "                             verbose=-1)  # verbose=-1 to suppress output during cross-validation\n",
        "\n",
        "# Define k-fold cross-validation\n",
        "n_splits = 5  # number of folds\n",
        "kf = KFold(n_splits=n_splits, shuffle=True, random_state=42)\n",
        "\n",
        "# Perform cross-validation and evaluate RMSE\n",
        "rmse_scores = -cross_val_score(clf_lightgbm, X, y, scoring='neg_root_mean_squared_error', cv=kf)\n",
        "\n",
        "# Calculate mean and standard deviation of RMSE\n",
        "mean_rmse = np.mean(rmse_scores)\n",
        "std_rmse = np.std(rmse_scores)\n",
        "\n",
        "print(f\"Mean RMSE (LightGBM): {mean_rmse:.4f}\")\n",
        "print(f\"Standard Deviation of RMSE (LightGBM): {std_rmse:.4f}\")\n",
        "\n",
        "# Fit the LightGBM model to the training data\n",
        "clf_lightgbm.fit(X, y)\n"
      ],
      "metadata": {
        "execution": {
          "iopub.status.busy": "2024-09-12T18:46:26.570227Z",
          "iopub.execute_input": "2024-09-12T18:46:26.570821Z",
          "iopub.status.idle": "2024-09-12T18:47:21.875283Z",
          "shell.execute_reply.started": "2024-09-12T18:46:26.570772Z",
          "shell.execute_reply": "2024-09-12T18:47:21.873939Z"
        },
        "trusted": true,
        "id": "N7H0DwH77mfF",
        "outputId": "442c8914-8f27-4d9d-b677-3c315e0e3aa7"
      },
      "execution_count": null,
      "outputs": [
        {
          "name": "stdout",
          "text": "Mean RMSE (LightGBM): 72316.9100\nStandard Deviation of RMSE (LightGBM): 4217.8029\n",
          "output_type": "stream"
        },
        {
          "execution_count": 31,
          "output_type": "execute_result",
          "data": {
            "text/plain": "LGBMRegressor(n_estimators=700, verbose=-1)",
            "text/html": "<style>#sk-container-id-1 {color: black;background-color: white;}#sk-container-id-1 pre{padding: 0;}#sk-container-id-1 div.sk-toggleable {background-color: white;}#sk-container-id-1 label.sk-toggleable__label {cursor: pointer;display: block;width: 100%;margin-bottom: 0;padding: 0.3em;box-sizing: border-box;text-align: center;}#sk-container-id-1 label.sk-toggleable__label-arrow:before {content: \"▸\";float: left;margin-right: 0.25em;color: #696969;}#sk-container-id-1 label.sk-toggleable__label-arrow:hover:before {color: black;}#sk-container-id-1 div.sk-estimator:hover label.sk-toggleable__label-arrow:before {color: black;}#sk-container-id-1 div.sk-toggleable__content {max-height: 0;max-width: 0;overflow: hidden;text-align: left;background-color: #f0f8ff;}#sk-container-id-1 div.sk-toggleable__content pre {margin: 0.2em;color: black;border-radius: 0.25em;background-color: #f0f8ff;}#sk-container-id-1 input.sk-toggleable__control:checked~div.sk-toggleable__content {max-height: 200px;max-width: 100%;overflow: auto;}#sk-container-id-1 input.sk-toggleable__control:checked~label.sk-toggleable__label-arrow:before {content: \"▾\";}#sk-container-id-1 div.sk-estimator input.sk-toggleable__control:checked~label.sk-toggleable__label {background-color: #d4ebff;}#sk-container-id-1 div.sk-label input.sk-toggleable__control:checked~label.sk-toggleable__label {background-color: #d4ebff;}#sk-container-id-1 input.sk-hidden--visually {border: 0;clip: rect(1px 1px 1px 1px);clip: rect(1px, 1px, 1px, 1px);height: 1px;margin: -1px;overflow: hidden;padding: 0;position: absolute;width: 1px;}#sk-container-id-1 div.sk-estimator {font-family: monospace;background-color: #f0f8ff;border: 1px dotted black;border-radius: 0.25em;box-sizing: border-box;margin-bottom: 0.5em;}#sk-container-id-1 div.sk-estimator:hover {background-color: #d4ebff;}#sk-container-id-1 div.sk-parallel-item::after {content: \"\";width: 100%;border-bottom: 1px solid gray;flex-grow: 1;}#sk-container-id-1 div.sk-label:hover label.sk-toggleable__label {background-color: #d4ebff;}#sk-container-id-1 div.sk-serial::before {content: \"\";position: absolute;border-left: 1px solid gray;box-sizing: border-box;top: 0;bottom: 0;left: 50%;z-index: 0;}#sk-container-id-1 div.sk-serial {display: flex;flex-direction: column;align-items: center;background-color: white;padding-right: 0.2em;padding-left: 0.2em;position: relative;}#sk-container-id-1 div.sk-item {position: relative;z-index: 1;}#sk-container-id-1 div.sk-parallel {display: flex;align-items: stretch;justify-content: center;background-color: white;position: relative;}#sk-container-id-1 div.sk-item::before, #sk-container-id-1 div.sk-parallel-item::before {content: \"\";position: absolute;border-left: 1px solid gray;box-sizing: border-box;top: 0;bottom: 0;left: 50%;z-index: -1;}#sk-container-id-1 div.sk-parallel-item {display: flex;flex-direction: column;z-index: 1;position: relative;background-color: white;}#sk-container-id-1 div.sk-parallel-item:first-child::after {align-self: flex-end;width: 50%;}#sk-container-id-1 div.sk-parallel-item:last-child::after {align-self: flex-start;width: 50%;}#sk-container-id-1 div.sk-parallel-item:only-child::after {width: 0;}#sk-container-id-1 div.sk-dashed-wrapped {border: 1px dashed gray;margin: 0 0.4em 0.5em 0.4em;box-sizing: border-box;padding-bottom: 0.4em;background-color: white;}#sk-container-id-1 div.sk-label label {font-family: monospace;font-weight: bold;display: inline-block;line-height: 1.2em;}#sk-container-id-1 div.sk-label-container {text-align: center;}#sk-container-id-1 div.sk-container {/* jupyter's `normalize.less` sets `[hidden] { display: none; }` but bootstrap.min.css set `[hidden] { display: none !important; }` so we also need the `!important` here to be able to override the default hidden behavior on the sphinx rendered scikit-learn.org. See: https://github.com/scikit-learn/scikit-learn/issues/21755 */display: inline-block !important;position: relative;}#sk-container-id-1 div.sk-text-repr-fallback {display: none;}</style><div id=\"sk-container-id-1\" class=\"sk-top-container\"><div class=\"sk-text-repr-fallback\"><pre>LGBMRegressor(n_estimators=700, verbose=-1)</pre><b>In a Jupyter environment, please rerun this cell to show the HTML representation or trust the notebook. <br />On GitHub, the HTML representation is unable to render, please try loading this page with nbviewer.org.</b></div><div class=\"sk-container\" hidden><div class=\"sk-item\"><div class=\"sk-estimator sk-toggleable\"><input class=\"sk-toggleable__control sk-hidden--visually\" id=\"sk-estimator-id-1\" type=\"checkbox\" checked><label for=\"sk-estimator-id-1\" class=\"sk-toggleable__label sk-toggleable__label-arrow\">LGBMRegressor</label><div class=\"sk-toggleable__content\"><pre>LGBMRegressor(n_estimators=700, verbose=-1)</pre></div></div></div></div></div>"
          },
          "metadata": {}
        }
      ]
    },
    {
      "cell_type": "markdown",
      "source": [
        "# DONT TOCH THIS BELOW"
      ],
      "metadata": {
        "id": "dvFFM2RI7mfF"
      }
    },
    {
      "cell_type": "code",
      "source": [
        "# #for test split 0.3 is the best !!!\n",
        "from sklearn.model_selection import train_test_split\n",
        "from sklearn.preprocessing import QuantileTransformer\n",
        "from sklearn.preprocessing import Normalizer\n",
        "from catboost import CatBoostRegressor\n",
        "\n",
        "\n",
        "clf_catboost = CatBoostRegressor(iterations=700,\n",
        "                                 learning_rate=0.0311,\n",
        "                                 depth=6,\n",
        "                                 l2_leaf_reg=3,\n",
        "                                # border_count=100,\n",
        "                                 verbose=0)  # verbose=0 to suppress output during cross-validation\n",
        "\n",
        "\n",
        "# Define k-fold cross-validation\n",
        "n_splits = 5  # number of folds\n",
        "kf = KFold(n_splits=n_splits, shuffle=True, random_state=42)\n",
        "\n",
        "# Perform cross-validation and evaluate RMSE\n",
        "rmse_scores = -cross_val_score(clf_catboost, X, y, scoring='neg_root_mean_squared_error', cv=kf)\n",
        "\n",
        "# Calculate mean and standard deviation of RMSE\n",
        "mean_rmse = np.mean(rmse_scores)\n",
        "std_rmse = np.std(rmse_scores)\n",
        "\n",
        "print(f\"Mean RMSE: {mean_rmse:.4f}\")\n",
        "print(f\"Standard Deviation of RMSE: {std_rmse:.4f}\")\n",
        "\n",
        "clf_catboost.fit(X, y)"
      ],
      "metadata": {
        "execution": {
          "iopub.status.busy": "2024-09-12T13:07:02.654437Z",
          "iopub.execute_input": "2024-09-12T13:07:02.655526Z",
          "iopub.status.idle": "2024-09-12T13:07:03.241538Z",
          "shell.execute_reply.started": "2024-09-12T13:07:02.655467Z",
          "shell.execute_reply": "2024-09-12T13:07:03.239665Z"
        },
        "trusted": true,
        "id": "dnZlL6Kt7mfG",
        "outputId": "8c662dd7-2966-441b-f253-1cde642bc720"
      },
      "execution_count": null,
      "outputs": [
        {
          "traceback": [
            "\u001b[0;31m---------------------------------------------------------------------------\u001b[0m",
            "\u001b[0;31mValueError\u001b[0m                                Traceback (most recent call last)",
            "Cell \u001b[0;32mIn[220], line 21\u001b[0m\n\u001b[1;32m     18\u001b[0m kf \u001b[38;5;241m=\u001b[39m KFold(n_splits\u001b[38;5;241m=\u001b[39mn_splits, shuffle\u001b[38;5;241m=\u001b[39m\u001b[38;5;28;01mTrue\u001b[39;00m, random_state\u001b[38;5;241m=\u001b[39m\u001b[38;5;241m42\u001b[39m)\n\u001b[1;32m     20\u001b[0m \u001b[38;5;66;03m# Perform cross-validation and evaluate RMSE\u001b[39;00m\n\u001b[0;32m---> 21\u001b[0m rmse_scores \u001b[38;5;241m=\u001b[39m \u001b[38;5;241m-\u001b[39m\u001b[43mcross_val_score\u001b[49m\u001b[43m(\u001b[49m\u001b[43mclf_catboost\u001b[49m\u001b[43m,\u001b[49m\u001b[43m \u001b[49m\u001b[43mX\u001b[49m\u001b[43m,\u001b[49m\u001b[43m \u001b[49m\u001b[43my\u001b[49m\u001b[43m,\u001b[49m\u001b[43m \u001b[49m\u001b[43mscoring\u001b[49m\u001b[38;5;241;43m=\u001b[39;49m\u001b[38;5;124;43m'\u001b[39;49m\u001b[38;5;124;43mneg_root_mean_squared_error\u001b[39;49m\u001b[38;5;124;43m'\u001b[39;49m\u001b[43m,\u001b[49m\u001b[43m \u001b[49m\u001b[43mcv\u001b[49m\u001b[38;5;241;43m=\u001b[39;49m\u001b[43mkf\u001b[49m\u001b[43m)\u001b[49m\n\u001b[1;32m     23\u001b[0m \u001b[38;5;66;03m# Calculate mean and standard deviation of RMSE\u001b[39;00m\n\u001b[1;32m     24\u001b[0m mean_rmse \u001b[38;5;241m=\u001b[39m np\u001b[38;5;241m.\u001b[39mmean(rmse_scores)\n",
            "File \u001b[0;32m/opt/conda/lib/python3.10/site-packages/sklearn/model_selection/_validation.py:515\u001b[0m, in \u001b[0;36mcross_val_score\u001b[0;34m(estimator, X, y, groups, scoring, cv, n_jobs, verbose, fit_params, pre_dispatch, error_score)\u001b[0m\n\u001b[1;32m    512\u001b[0m \u001b[38;5;66;03m# To ensure multimetric format is not supported\u001b[39;00m\n\u001b[1;32m    513\u001b[0m scorer \u001b[38;5;241m=\u001b[39m check_scoring(estimator, scoring\u001b[38;5;241m=\u001b[39mscoring)\n\u001b[0;32m--> 515\u001b[0m cv_results \u001b[38;5;241m=\u001b[39m \u001b[43mcross_validate\u001b[49m\u001b[43m(\u001b[49m\n\u001b[1;32m    516\u001b[0m \u001b[43m    \u001b[49m\u001b[43mestimator\u001b[49m\u001b[38;5;241;43m=\u001b[39;49m\u001b[43mestimator\u001b[49m\u001b[43m,\u001b[49m\n\u001b[1;32m    517\u001b[0m \u001b[43m    \u001b[49m\u001b[43mX\u001b[49m\u001b[38;5;241;43m=\u001b[39;49m\u001b[43mX\u001b[49m\u001b[43m,\u001b[49m\n\u001b[1;32m    518\u001b[0m \u001b[43m    \u001b[49m\u001b[43my\u001b[49m\u001b[38;5;241;43m=\u001b[39;49m\u001b[43my\u001b[49m\u001b[43m,\u001b[49m\n\u001b[1;32m    519\u001b[0m \u001b[43m    \u001b[49m\u001b[43mgroups\u001b[49m\u001b[38;5;241;43m=\u001b[39;49m\u001b[43mgroups\u001b[49m\u001b[43m,\u001b[49m\n\u001b[1;32m    520\u001b[0m \u001b[43m    \u001b[49m\u001b[43mscoring\u001b[49m\u001b[38;5;241;43m=\u001b[39;49m\u001b[43m{\u001b[49m\u001b[38;5;124;43m\"\u001b[39;49m\u001b[38;5;124;43mscore\u001b[39;49m\u001b[38;5;124;43m\"\u001b[39;49m\u001b[43m:\u001b[49m\u001b[43m \u001b[49m\u001b[43mscorer\u001b[49m\u001b[43m}\u001b[49m\u001b[43m,\u001b[49m\n\u001b[1;32m    521\u001b[0m \u001b[43m    \u001b[49m\u001b[43mcv\u001b[49m\u001b[38;5;241;43m=\u001b[39;49m\u001b[43mcv\u001b[49m\u001b[43m,\u001b[49m\n\u001b[1;32m    522\u001b[0m \u001b[43m    \u001b[49m\u001b[43mn_jobs\u001b[49m\u001b[38;5;241;43m=\u001b[39;49m\u001b[43mn_jobs\u001b[49m\u001b[43m,\u001b[49m\n\u001b[1;32m    523\u001b[0m \u001b[43m    \u001b[49m\u001b[43mverbose\u001b[49m\u001b[38;5;241;43m=\u001b[39;49m\u001b[43mverbose\u001b[49m\u001b[43m,\u001b[49m\n\u001b[1;32m    524\u001b[0m \u001b[43m    \u001b[49m\u001b[43mfit_params\u001b[49m\u001b[38;5;241;43m=\u001b[39;49m\u001b[43mfit_params\u001b[49m\u001b[43m,\u001b[49m\n\u001b[1;32m    525\u001b[0m \u001b[43m    \u001b[49m\u001b[43mpre_dispatch\u001b[49m\u001b[38;5;241;43m=\u001b[39;49m\u001b[43mpre_dispatch\u001b[49m\u001b[43m,\u001b[49m\n\u001b[1;32m    526\u001b[0m \u001b[43m    \u001b[49m\u001b[43merror_score\u001b[49m\u001b[38;5;241;43m=\u001b[39;49m\u001b[43merror_score\u001b[49m\u001b[43m,\u001b[49m\n\u001b[1;32m    527\u001b[0m \u001b[43m\u001b[49m\u001b[43m)\u001b[49m\n\u001b[1;32m    528\u001b[0m \u001b[38;5;28;01mreturn\u001b[39;00m cv_results[\u001b[38;5;124m\"\u001b[39m\u001b[38;5;124mtest_score\u001b[39m\u001b[38;5;124m\"\u001b[39m]\n",
            "File \u001b[0;32m/opt/conda/lib/python3.10/site-packages/sklearn/model_selection/_validation.py:285\u001b[0m, in \u001b[0;36mcross_validate\u001b[0;34m(estimator, X, y, groups, scoring, cv, n_jobs, verbose, fit_params, pre_dispatch, return_train_score, return_estimator, error_score)\u001b[0m\n\u001b[1;32m    265\u001b[0m parallel \u001b[38;5;241m=\u001b[39m Parallel(n_jobs\u001b[38;5;241m=\u001b[39mn_jobs, verbose\u001b[38;5;241m=\u001b[39mverbose, pre_dispatch\u001b[38;5;241m=\u001b[39mpre_dispatch)\n\u001b[1;32m    266\u001b[0m results \u001b[38;5;241m=\u001b[39m parallel(\n\u001b[1;32m    267\u001b[0m     delayed(_fit_and_score)(\n\u001b[1;32m    268\u001b[0m         clone(estimator),\n\u001b[0;32m   (...)\u001b[0m\n\u001b[1;32m    282\u001b[0m     \u001b[38;5;28;01mfor\u001b[39;00m train, test \u001b[38;5;129;01min\u001b[39;00m cv\u001b[38;5;241m.\u001b[39msplit(X, y, groups)\n\u001b[1;32m    283\u001b[0m )\n\u001b[0;32m--> 285\u001b[0m \u001b[43m_warn_or_raise_about_fit_failures\u001b[49m\u001b[43m(\u001b[49m\u001b[43mresults\u001b[49m\u001b[43m,\u001b[49m\u001b[43m \u001b[49m\u001b[43merror_score\u001b[49m\u001b[43m)\u001b[49m\n\u001b[1;32m    287\u001b[0m \u001b[38;5;66;03m# For callabe scoring, the return type is only know after calling. If the\u001b[39;00m\n\u001b[1;32m    288\u001b[0m \u001b[38;5;66;03m# return type is a dictionary, the error scores can now be inserted with\u001b[39;00m\n\u001b[1;32m    289\u001b[0m \u001b[38;5;66;03m# the correct key.\u001b[39;00m\n\u001b[1;32m    290\u001b[0m \u001b[38;5;28;01mif\u001b[39;00m \u001b[38;5;28mcallable\u001b[39m(scoring):\n",
            "File \u001b[0;32m/opt/conda/lib/python3.10/site-packages/sklearn/model_selection/_validation.py:367\u001b[0m, in \u001b[0;36m_warn_or_raise_about_fit_failures\u001b[0;34m(results, error_score)\u001b[0m\n\u001b[1;32m    360\u001b[0m \u001b[38;5;28;01mif\u001b[39;00m num_failed_fits \u001b[38;5;241m==\u001b[39m num_fits:\n\u001b[1;32m    361\u001b[0m     all_fits_failed_message \u001b[38;5;241m=\u001b[39m (\n\u001b[1;32m    362\u001b[0m         \u001b[38;5;124mf\u001b[39m\u001b[38;5;124m\"\u001b[39m\u001b[38;5;130;01m\\n\u001b[39;00m\u001b[38;5;124mAll the \u001b[39m\u001b[38;5;132;01m{\u001b[39;00mnum_fits\u001b[38;5;132;01m}\u001b[39;00m\u001b[38;5;124m fits failed.\u001b[39m\u001b[38;5;130;01m\\n\u001b[39;00m\u001b[38;5;124m\"\u001b[39m\n\u001b[1;32m    363\u001b[0m         \u001b[38;5;124m\"\u001b[39m\u001b[38;5;124mIt is very likely that your model is misconfigured.\u001b[39m\u001b[38;5;130;01m\\n\u001b[39;00m\u001b[38;5;124m\"\u001b[39m\n\u001b[1;32m    364\u001b[0m         \u001b[38;5;124m\"\u001b[39m\u001b[38;5;124mYou can try to debug the error by setting error_score=\u001b[39m\u001b[38;5;124m'\u001b[39m\u001b[38;5;124mraise\u001b[39m\u001b[38;5;124m'\u001b[39m\u001b[38;5;124m.\u001b[39m\u001b[38;5;130;01m\\n\u001b[39;00m\u001b[38;5;130;01m\\n\u001b[39;00m\u001b[38;5;124m\"\u001b[39m\n\u001b[1;32m    365\u001b[0m         \u001b[38;5;124mf\u001b[39m\u001b[38;5;124m\"\u001b[39m\u001b[38;5;124mBelow are more details about the failures:\u001b[39m\u001b[38;5;130;01m\\n\u001b[39;00m\u001b[38;5;132;01m{\u001b[39;00mfit_errors_summary\u001b[38;5;132;01m}\u001b[39;00m\u001b[38;5;124m\"\u001b[39m\n\u001b[1;32m    366\u001b[0m     )\n\u001b[0;32m--> 367\u001b[0m     \u001b[38;5;28;01mraise\u001b[39;00m \u001b[38;5;167;01mValueError\u001b[39;00m(all_fits_failed_message)\n\u001b[1;32m    369\u001b[0m \u001b[38;5;28;01melse\u001b[39;00m:\n\u001b[1;32m    370\u001b[0m     some_fits_failed_message \u001b[38;5;241m=\u001b[39m (\n\u001b[1;32m    371\u001b[0m         \u001b[38;5;124mf\u001b[39m\u001b[38;5;124m\"\u001b[39m\u001b[38;5;130;01m\\n\u001b[39;00m\u001b[38;5;132;01m{\u001b[39;00mnum_failed_fits\u001b[38;5;132;01m}\u001b[39;00m\u001b[38;5;124m fits failed out of a total of \u001b[39m\u001b[38;5;132;01m{\u001b[39;00mnum_fits\u001b[38;5;132;01m}\u001b[39;00m\u001b[38;5;124m.\u001b[39m\u001b[38;5;130;01m\\n\u001b[39;00m\u001b[38;5;124m\"\u001b[39m\n\u001b[1;32m    372\u001b[0m         \u001b[38;5;124m\"\u001b[39m\u001b[38;5;124mThe score on these train-test partitions for these parameters\u001b[39m\u001b[38;5;124m\"\u001b[39m\n\u001b[0;32m   (...)\u001b[0m\n\u001b[1;32m    376\u001b[0m         \u001b[38;5;124mf\u001b[39m\u001b[38;5;124m\"\u001b[39m\u001b[38;5;124mBelow are more details about the failures:\u001b[39m\u001b[38;5;130;01m\\n\u001b[39;00m\u001b[38;5;132;01m{\u001b[39;00mfit_errors_summary\u001b[38;5;132;01m}\u001b[39;00m\u001b[38;5;124m\"\u001b[39m\n\u001b[1;32m    377\u001b[0m     )\n",
            "\u001b[0;31mValueError\u001b[0m: \nAll the 5 fits failed.\nIt is very likely that your model is misconfigured.\nYou can try to debug the error by setting error_score='raise'.\n\nBelow are more details about the failures:\n--------------------------------------------------------------------------------\n5 fits failed with the following error:\nTraceback (most recent call last):\n  File \"/opt/conda/lib/python3.10/site-packages/sklearn/model_selection/_validation.py\", line 686, in _fit_and_score\n    estimator.fit(X_train, y_train, **fit_params)\n  File \"/opt/conda/lib/python3.10/site-packages/catboost/core.py\", line 5827, in fit\n    return self._fit(X, y, cat_features, text_features, embedding_features, None, sample_weight, None, None, None, None, baseline,\n  File \"/opt/conda/lib/python3.10/site-packages/catboost/core.py\", line 2400, in _fit\n    self._train(\n  File \"/opt/conda/lib/python3.10/site-packages/catboost/core.py\", line 1780, in _train\n    self._object._train(train_pool, test_pool, params, allow_clear_pool, init_model._object if init_model else None)\n  File \"_catboost.pyx\", line 4833, in _catboost._CatBoost._train\n  File \"_catboost.pyx\", line 4882, in _catboost._CatBoost._train\n_catboost.CatBoostError: /src/catboost/catboost/libs/metrics/metric.cpp:6769: metric/loss-function RMSE do not allows nan value on target\n"
          ],
          "ename": "ValueError",
          "evalue": "\nAll the 5 fits failed.\nIt is very likely that your model is misconfigured.\nYou can try to debug the error by setting error_score='raise'.\n\nBelow are more details about the failures:\n--------------------------------------------------------------------------------\n5 fits failed with the following error:\nTraceback (most recent call last):\n  File \"/opt/conda/lib/python3.10/site-packages/sklearn/model_selection/_validation.py\", line 686, in _fit_and_score\n    estimator.fit(X_train, y_train, **fit_params)\n  File \"/opt/conda/lib/python3.10/site-packages/catboost/core.py\", line 5827, in fit\n    return self._fit(X, y, cat_features, text_features, embedding_features, None, sample_weight, None, None, None, None, baseline,\n  File \"/opt/conda/lib/python3.10/site-packages/catboost/core.py\", line 2400, in _fit\n    self._train(\n  File \"/opt/conda/lib/python3.10/site-packages/catboost/core.py\", line 1780, in _train\n    self._object._train(train_pool, test_pool, params, allow_clear_pool, init_model._object if init_model else None)\n  File \"_catboost.pyx\", line 4833, in _catboost._CatBoost._train\n  File \"_catboost.pyx\", line 4882, in _catboost._CatBoost._train\n_catboost.CatBoostError: /src/catboost/catboost/libs/metrics/metric.cpp:6769: metric/loss-function RMSE do not allows nan value on target\n",
          "output_type": "error"
        }
      ]
    },
    {
      "cell_type": "code",
      "source": [
        "# test_df = test_df.drop('price', axis=1)"
      ],
      "metadata": {
        "trusted": true,
        "id": "-tRYxHMs7mfG"
      },
      "execution_count": null,
      "outputs": []
    },
    {
      "cell_type": "code",
      "source": [
        "test.head()"
      ],
      "metadata": {
        "execution": {
          "iopub.status.busy": "2024-09-12T18:58:31.547834Z",
          "iopub.execute_input": "2024-09-12T18:58:31.548369Z",
          "iopub.status.idle": "2024-09-12T18:58:31.567543Z",
          "shell.execute_reply.started": "2024-09-12T18:58:31.548324Z",
          "shell.execute_reply": "2024-09-12T18:58:31.566284Z"
        },
        "trusted": true,
        "id": "mIpB0cd97mfG",
        "outputId": "45c42726-f0b0-4935-dd71-88c1abe89384"
      },
      "execution_count": null,
      "outputs": [
        {
          "execution_count": 36,
          "output_type": "execute_result",
          "data": {
            "text/plain": "       brand                  model  model_year  milage fuel_type  \\\n0       Land         Rover LR2 Base        2015   98000  Gasoline   \n1       Land      Rover Defender SE        2020    9142    Hybrid   \n4       Audi   A6 2.0T Premium Plus        2018   59000  Gasoline   \n5  Chevrolet  Express 2500 Work Van        2013   99524  Gasoline   \n6      Lexus            RX 350 Base        2008  194000  Gasoline   \n\n                                              engine  \\\n0       240.0HP 2.0L 4 Cylinder Engine Gasoline Fuel   \n1  395.0HP 3.0L Straight 6 Cylinder Engine Gasoli...   \n4       252.0HP 2.0L 4 Cylinder Engine Gasoline Fuel   \n5       285.0HP 4.8L 8 Cylinder Engine Gasoline Fuel   \n6      270.0HP 3.5L V6 Cylinder Engine Gasoline Fuel   \n\n                     transmission ext_col int_col       accident  \n0                     6-Speed A/T   White   Beige  None reported  \n1                     8-Speed A/T  Silver   Black  None reported  \n4                             A/T    Gray   Black  None reported  \n5                             A/T   Black   Black  None reported  \n6  Transmission w/Dual Shift Mode  Silver    Gray  None reported  ",
            "text/html": "<div>\n<style scoped>\n    .dataframe tbody tr th:only-of-type {\n        vertical-align: middle;\n    }\n\n    .dataframe tbody tr th {\n        vertical-align: top;\n    }\n\n    .dataframe thead th {\n        text-align: right;\n    }\n</style>\n<table border=\"1\" class=\"dataframe\">\n  <thead>\n    <tr style=\"text-align: right;\">\n      <th></th>\n      <th>brand</th>\n      <th>model</th>\n      <th>model_year</th>\n      <th>milage</th>\n      <th>fuel_type</th>\n      <th>engine</th>\n      <th>transmission</th>\n      <th>ext_col</th>\n      <th>int_col</th>\n      <th>accident</th>\n    </tr>\n  </thead>\n  <tbody>\n    <tr>\n      <th>0</th>\n      <td>Land</td>\n      <td>Rover LR2 Base</td>\n      <td>2015</td>\n      <td>98000</td>\n      <td>Gasoline</td>\n      <td>240.0HP 2.0L 4 Cylinder Engine Gasoline Fuel</td>\n      <td>6-Speed A/T</td>\n      <td>White</td>\n      <td>Beige</td>\n      <td>None reported</td>\n    </tr>\n    <tr>\n      <th>1</th>\n      <td>Land</td>\n      <td>Rover Defender SE</td>\n      <td>2020</td>\n      <td>9142</td>\n      <td>Hybrid</td>\n      <td>395.0HP 3.0L Straight 6 Cylinder Engine Gasoli...</td>\n      <td>8-Speed A/T</td>\n      <td>Silver</td>\n      <td>Black</td>\n      <td>None reported</td>\n    </tr>\n    <tr>\n      <th>4</th>\n      <td>Audi</td>\n      <td>A6 2.0T Premium Plus</td>\n      <td>2018</td>\n      <td>59000</td>\n      <td>Gasoline</td>\n      <td>252.0HP 2.0L 4 Cylinder Engine Gasoline Fuel</td>\n      <td>A/T</td>\n      <td>Gray</td>\n      <td>Black</td>\n      <td>None reported</td>\n    </tr>\n    <tr>\n      <th>5</th>\n      <td>Chevrolet</td>\n      <td>Express 2500 Work Van</td>\n      <td>2013</td>\n      <td>99524</td>\n      <td>Gasoline</td>\n      <td>285.0HP 4.8L 8 Cylinder Engine Gasoline Fuel</td>\n      <td>A/T</td>\n      <td>Black</td>\n      <td>Black</td>\n      <td>None reported</td>\n    </tr>\n    <tr>\n      <th>6</th>\n      <td>Lexus</td>\n      <td>RX 350 Base</td>\n      <td>2008</td>\n      <td>194000</td>\n      <td>Gasoline</td>\n      <td>270.0HP 3.5L V6 Cylinder Engine Gasoline Fuel</td>\n      <td>Transmission w/Dual Shift Mode</td>\n      <td>Silver</td>\n      <td>Gray</td>\n      <td>None reported</td>\n    </tr>\n  </tbody>\n</table>\n</div>"
          },
          "metadata": {}
        }
      ]
    },
    {
      "cell_type": "code",
      "source": [
        "test_dataset = pd.read_csv('/kaggle/input/playground-series-s4e9/test.csv')"
      ],
      "metadata": {
        "execution": {
          "iopub.status.busy": "2024-09-12T19:07:02.040183Z",
          "iopub.execute_input": "2024-09-12T19:07:02.041054Z",
          "iopub.status.idle": "2024-09-12T19:07:02.481441Z",
          "shell.execute_reply.started": "2024-09-12T19:07:02.041004Z",
          "shell.execute_reply": "2024-09-12T19:07:02.479216Z"
        },
        "trusted": true,
        "id": "WkFz_E_N7mfG"
      },
      "execution_count": null,
      "outputs": []
    },
    {
      "cell_type": "code",
      "source": [
        "(100* (test_dataset.isna().sum())/len(test_dataset)).sort_values(ascending=False)"
      ],
      "metadata": {
        "execution": {
          "iopub.status.busy": "2024-09-12T19:07:04.7157Z",
          "iopub.execute_input": "2024-09-12T19:07:04.716161Z",
          "iopub.status.idle": "2024-09-12T19:07:04.849576Z",
          "shell.execute_reply.started": "2024-09-12T19:07:04.716117Z",
          "shell.execute_reply": "2024-09-12T19:07:04.847978Z"
        },
        "trusted": true,
        "id": "sAD9oI_n7mfG",
        "outputId": "302aea4b-3560-4e57-c404-1e87660869ea"
      },
      "execution_count": null,
      "outputs": [
        {
          "execution_count": 55,
          "output_type": "execute_result",
          "data": {
            "text/plain": "clean_title     11.328666\nfuel_type        2.691543\naccident         1.298433\nid               0.000000\nbrand            0.000000\nmodel            0.000000\nmodel_year       0.000000\nmilage           0.000000\nengine           0.000000\ntransmission     0.000000\next_col          0.000000\nint_col          0.000000\ndtype: float64"
          },
          "metadata": {}
        }
      ]
    },
    {
      "cell_type": "code",
      "source": [
        "test_dataset = test_dataset.drop('clean_title', axis=1)"
      ],
      "metadata": {
        "execution": {
          "iopub.status.busy": "2024-09-12T19:07:07.324366Z",
          "iopub.execute_input": "2024-09-12T19:07:07.325485Z",
          "iopub.status.idle": "2024-09-12T19:07:07.346407Z",
          "shell.execute_reply.started": "2024-09-12T19:07:07.325433Z",
          "shell.execute_reply": "2024-09-12T19:07:07.34466Z"
        },
        "trusted": true,
        "id": "SjDRQETe7mfL"
      },
      "execution_count": null,
      "outputs": []
    },
    {
      "cell_type": "code",
      "source": [
        "missing_columns = ['fuel_type', 'accident']"
      ],
      "metadata": {
        "execution": {
          "iopub.status.busy": "2024-09-12T19:07:09.206667Z",
          "iopub.execute_input": "2024-09-12T19:07:09.207159Z",
          "iopub.status.idle": "2024-09-12T19:07:09.213042Z",
          "shell.execute_reply.started": "2024-09-12T19:07:09.207113Z",
          "shell.execute_reply": "2024-09-12T19:07:09.211714Z"
        },
        "trusted": true,
        "id": "4qvPIJoI7mfL"
      },
      "execution_count": null,
      "outputs": []
    },
    {
      "cell_type": "code",
      "source": [
        "for col in missing_columns:\n",
        "    test_dataset.loc[:, col] = test_dataset.loc[:, col].fillna(test_dataset.loc[:, col].mode()[0])"
      ],
      "metadata": {
        "execution": {
          "iopub.status.busy": "2024-09-12T19:07:11.001829Z",
          "iopub.execute_input": "2024-09-12T19:07:11.002302Z",
          "iopub.status.idle": "2024-09-12T19:07:11.090714Z",
          "shell.execute_reply.started": "2024-09-12T19:07:11.002259Z",
          "shell.execute_reply": "2024-09-12T19:07:11.089302Z"
        },
        "trusted": true,
        "id": "Enga6a8T7mfL"
      },
      "execution_count": null,
      "outputs": []
    },
    {
      "cell_type": "code",
      "source": [
        "encoder=LabelEncoder()\n",
        "test_dataset['brand']=encoder.fit_transform(test_dataset['brand'])\n",
        "test_dataset['model']=encoder.fit_transform(test_dataset['model'])\n",
        "#df['fuel_type']=encoder.fit_transform(df['fuel_type'])\n",
        "test_dataset['engine']=encoder.fit_transform(test_dataset['engine'])\n",
        "test_dataset['transmission']=encoder.fit_transform(test_dataset['transmission'])\n",
        "test_dataset['ext_col']=encoder.fit_transform(test_dataset['ext_col'])\n",
        "test_dataset['int_col']=encoder.fit_transform(test_dataset['int_col'])\n",
        "test_dataset['accident']=encoder.fit_transform(test_dataset['accident'])"
      ],
      "metadata": {
        "execution": {
          "iopub.status.busy": "2024-09-12T19:07:12.591609Z",
          "iopub.execute_input": "2024-09-12T19:07:12.59211Z",
          "iopub.status.idle": "2024-09-12T19:07:12.900431Z",
          "shell.execute_reply.started": "2024-09-12T19:07:12.592063Z",
          "shell.execute_reply": "2024-09-12T19:07:12.898859Z"
        },
        "trusted": true,
        "id": "SFv2fvPS7mfL"
      },
      "execution_count": null,
      "outputs": []
    },
    {
      "cell_type": "code",
      "source": [
        "test_dataset = pd.get_dummies(test_dataset, dtype='int')"
      ],
      "metadata": {
        "execution": {
          "iopub.status.busy": "2024-09-12T19:07:15.973989Z",
          "iopub.execute_input": "2024-09-12T19:07:15.974474Z",
          "iopub.status.idle": "2024-09-12T19:07:16.020012Z",
          "shell.execute_reply.started": "2024-09-12T19:07:15.974428Z",
          "shell.execute_reply": "2024-09-12T19:07:16.018624Z"
        },
        "trusted": true,
        "id": "7qiOW6us7mfL"
      },
      "execution_count": null,
      "outputs": []
    },
    {
      "cell_type": "code",
      "source": [
        "test_dataset.head()"
      ],
      "metadata": {
        "execution": {
          "iopub.status.busy": "2024-09-12T19:07:18.876826Z",
          "iopub.execute_input": "2024-09-12T19:07:18.877308Z",
          "iopub.status.idle": "2024-09-12T19:07:18.89601Z",
          "shell.execute_reply.started": "2024-09-12T19:07:18.877262Z",
          "shell.execute_reply": "2024-09-12T19:07:18.894806Z"
        },
        "trusted": true,
        "id": "oIYC1hoQ7mfL",
        "outputId": "b2da9182-57f2-464a-83c4-e05903badba3"
      },
      "execution_count": null,
      "outputs": [
        {
          "execution_count": 61,
          "output_type": "execute_result",
          "data": {
            "text/plain": "       id  brand  model  model_year  milage  engine  transmission  ext_col  \\\n0  188533     26   1388        2015   98000     326            16      302   \n1  188534     26   1375        2020    9142     787            31      261   \n2  188535     14    636        2022   28121     541             3      302   \n3  188536      3    182        2016   61258     193            39      259   \n4  188537      3    181        2018   59000     365            38      127   \n\n   int_col  accident  fuel_type_Diesel  fuel_type_E85 Flex Fuel  \\\n0       10         1                 0                        0   \n1       14         1                 0                        0   \n2       57         1                 0                        0   \n3       14         1                 0                        0   \n4       14         1                 0                        0   \n\n   fuel_type_Gasoline  fuel_type_Hybrid  fuel_type_Plug-In Hybrid  \\\n0                   1                 0                         0   \n1                   0                 1                         0   \n2                   1                 0                         0   \n3                   1                 0                         0   \n4                   1                 0                         0   \n\n   fuel_type_not supported  fuel_type_–  \n0                        0            0  \n1                        0            0  \n2                        0            0  \n3                        0            0  \n4                        0            0  ",
            "text/html": "<div>\n<style scoped>\n    .dataframe tbody tr th:only-of-type {\n        vertical-align: middle;\n    }\n\n    .dataframe tbody tr th {\n        vertical-align: top;\n    }\n\n    .dataframe thead th {\n        text-align: right;\n    }\n</style>\n<table border=\"1\" class=\"dataframe\">\n  <thead>\n    <tr style=\"text-align: right;\">\n      <th></th>\n      <th>id</th>\n      <th>brand</th>\n      <th>model</th>\n      <th>model_year</th>\n      <th>milage</th>\n      <th>engine</th>\n      <th>transmission</th>\n      <th>ext_col</th>\n      <th>int_col</th>\n      <th>accident</th>\n      <th>fuel_type_Diesel</th>\n      <th>fuel_type_E85 Flex Fuel</th>\n      <th>fuel_type_Gasoline</th>\n      <th>fuel_type_Hybrid</th>\n      <th>fuel_type_Plug-In Hybrid</th>\n      <th>fuel_type_not supported</th>\n      <th>fuel_type_–</th>\n    </tr>\n  </thead>\n  <tbody>\n    <tr>\n      <th>0</th>\n      <td>188533</td>\n      <td>26</td>\n      <td>1388</td>\n      <td>2015</td>\n      <td>98000</td>\n      <td>326</td>\n      <td>16</td>\n      <td>302</td>\n      <td>10</td>\n      <td>1</td>\n      <td>0</td>\n      <td>0</td>\n      <td>1</td>\n      <td>0</td>\n      <td>0</td>\n      <td>0</td>\n      <td>0</td>\n    </tr>\n    <tr>\n      <th>1</th>\n      <td>188534</td>\n      <td>26</td>\n      <td>1375</td>\n      <td>2020</td>\n      <td>9142</td>\n      <td>787</td>\n      <td>31</td>\n      <td>261</td>\n      <td>14</td>\n      <td>1</td>\n      <td>0</td>\n      <td>0</td>\n      <td>0</td>\n      <td>1</td>\n      <td>0</td>\n      <td>0</td>\n      <td>0</td>\n    </tr>\n    <tr>\n      <th>2</th>\n      <td>188535</td>\n      <td>14</td>\n      <td>636</td>\n      <td>2022</td>\n      <td>28121</td>\n      <td>541</td>\n      <td>3</td>\n      <td>302</td>\n      <td>57</td>\n      <td>1</td>\n      <td>0</td>\n      <td>0</td>\n      <td>1</td>\n      <td>0</td>\n      <td>0</td>\n      <td>0</td>\n      <td>0</td>\n    </tr>\n    <tr>\n      <th>3</th>\n      <td>188536</td>\n      <td>3</td>\n      <td>182</td>\n      <td>2016</td>\n      <td>61258</td>\n      <td>193</td>\n      <td>39</td>\n      <td>259</td>\n      <td>14</td>\n      <td>1</td>\n      <td>0</td>\n      <td>0</td>\n      <td>1</td>\n      <td>0</td>\n      <td>0</td>\n      <td>0</td>\n      <td>0</td>\n    </tr>\n    <tr>\n      <th>4</th>\n      <td>188537</td>\n      <td>3</td>\n      <td>181</td>\n      <td>2018</td>\n      <td>59000</td>\n      <td>365</td>\n      <td>38</td>\n      <td>127</td>\n      <td>14</td>\n      <td>1</td>\n      <td>0</td>\n      <td>0</td>\n      <td>1</td>\n      <td>0</td>\n      <td>0</td>\n      <td>0</td>\n      <td>0</td>\n    </tr>\n  </tbody>\n</table>\n</div>"
          },
          "metadata": {}
        }
      ]
    },
    {
      "cell_type": "code",
      "source": [
        "test_id = test_dataset['id']"
      ],
      "metadata": {
        "execution": {
          "iopub.status.busy": "2024-09-12T19:07:34.636105Z",
          "iopub.execute_input": "2024-09-12T19:07:34.637012Z",
          "iopub.status.idle": "2024-09-12T19:07:34.64274Z",
          "shell.execute_reply.started": "2024-09-12T19:07:34.636959Z",
          "shell.execute_reply": "2024-09-12T19:07:34.641056Z"
        },
        "trusted": true,
        "id": "aWtVJuxe7mfL"
      },
      "execution_count": null,
      "outputs": []
    },
    {
      "cell_type": "code",
      "source": [
        "test_dataset = test_dataset.drop('id', axis=1)"
      ],
      "metadata": {
        "execution": {
          "iopub.status.busy": "2024-09-12T19:07:37.407925Z",
          "iopub.execute_input": "2024-09-12T19:07:37.408455Z",
          "iopub.status.idle": "2024-09-12T19:07:37.417886Z",
          "shell.execute_reply.started": "2024-09-12T19:07:37.408406Z",
          "shell.execute_reply": "2024-09-12T19:07:37.416573Z"
        },
        "trusted": true,
        "id": "g9-zhroa7mfL"
      },
      "execution_count": null,
      "outputs": []
    },
    {
      "cell_type": "code",
      "source": [
        "# submit = pd.read_csv(\"/kaggle/input/playground-series-s4e9/sample_submission.csv\")\n",
        "# pred = clf_catboost.predict(test_df)\n",
        "# submit[\"price\"] = pred\n",
        "# submit.to_csv(\"submission.csv\", index=False)\n",
        "# submit.head()"
      ],
      "metadata": {
        "execution": {
          "iopub.status.busy": "2024-09-12T12:27:46.961638Z",
          "iopub.execute_input": "2024-09-12T12:27:46.962096Z",
          "iopub.status.idle": "2024-09-12T12:27:47.468857Z",
          "shell.execute_reply.started": "2024-09-12T12:27:46.962048Z",
          "shell.execute_reply": "2024-09-12T12:27:47.467797Z"
        },
        "trusted": true,
        "id": "2wYU8UX07mfL",
        "outputId": "34f81553-3178-428b-9260-b0ba71381240"
      },
      "execution_count": null,
      "outputs": [
        {
          "execution_count": 182,
          "output_type": "execute_result",
          "data": {
            "text/plain": "       id         price\n0  188533  18456.531661\n1  188534  77560.629778\n2  188535  52519.133365\n3  188536  20244.480074\n4  188537  30726.856257",
            "text/html": "<div>\n<style scoped>\n    .dataframe tbody tr th:only-of-type {\n        vertical-align: middle;\n    }\n\n    .dataframe tbody tr th {\n        vertical-align: top;\n    }\n\n    .dataframe thead th {\n        text-align: right;\n    }\n</style>\n<table border=\"1\" class=\"dataframe\">\n  <thead>\n    <tr style=\"text-align: right;\">\n      <th></th>\n      <th>id</th>\n      <th>price</th>\n    </tr>\n  </thead>\n  <tbody>\n    <tr>\n      <th>0</th>\n      <td>188533</td>\n      <td>18456.531661</td>\n    </tr>\n    <tr>\n      <th>1</th>\n      <td>188534</td>\n      <td>77560.629778</td>\n    </tr>\n    <tr>\n      <th>2</th>\n      <td>188535</td>\n      <td>52519.133365</td>\n    </tr>\n    <tr>\n      <th>3</th>\n      <td>188536</td>\n      <td>20244.480074</td>\n    </tr>\n    <tr>\n      <th>4</th>\n      <td>188537</td>\n      <td>30726.856257</td>\n    </tr>\n  </tbody>\n</table>\n</div>"
          },
          "metadata": {}
        }
      ]
    },
    {
      "cell_type": "code",
      "source": [
        "#test_id = test_dataset['id']\n",
        "test_predictions_catboost = clf_catboost.predict(test_dataset)\n",
        "print(test_predictions_catboost[:10])\n",
        "# Prepare submission\n",
        "test_predictions_catboost_df = pd.DataFrame(test_predictions_catboost, columns=['price'])\n",
        "submit_df = pd.concat([test_id, test_predictions_catboost_df], axis=1)\n",
        "submit_df.to_csv('submission_1.csv', index=False)"
      ],
      "metadata": {
        "execution": {
          "iopub.status.busy": "2024-09-12T19:09:10.22556Z",
          "iopub.execute_input": "2024-09-12T19:09:10.226079Z",
          "iopub.status.idle": "2024-09-12T19:09:10.768777Z",
          "shell.execute_reply.started": "2024-09-12T19:09:10.226036Z",
          "shell.execute_reply": "2024-09-12T19:09:10.767098Z"
        },
        "trusted": true,
        "id": "R3UODOtj7mfL",
        "outputId": "11ce1725-c358-4ea9-da06-f688c3a8bf4b"
      },
      "execution_count": null,
      "outputs": [
        {
          "name": "stdout",
          "text": "[17236.04449508 99114.98065085 53579.33338862 22607.31196442\n 30586.8243416  15777.80053465 14439.47681612 42265.09881711\n 95684.74422751 35971.22709215]\n",
          "output_type": "stream"
        }
      ]
    },
    {
      "cell_type": "code",
      "source": [
        "submit_df.head()"
      ],
      "metadata": {
        "execution": {
          "iopub.status.busy": "2024-09-12T19:09:19.178065Z",
          "iopub.execute_input": "2024-09-12T19:09:19.178621Z",
          "iopub.status.idle": "2024-09-12T19:09:19.195363Z",
          "shell.execute_reply.started": "2024-09-12T19:09:19.178571Z",
          "shell.execute_reply": "2024-09-12T19:09:19.193871Z"
        },
        "trusted": true,
        "id": "j12N_PdW7mfM",
        "outputId": "848f31f9-e1e5-4516-b362-b0aedcd69262"
      },
      "execution_count": null,
      "outputs": [
        {
          "execution_count": 67,
          "output_type": "execute_result",
          "data": {
            "text/plain": "       id         price\n0  188533  17236.044495\n1  188534  99114.980651\n2  188535  53579.333389\n3  188536  22607.311964\n4  188537  30586.824342",
            "text/html": "<div>\n<style scoped>\n    .dataframe tbody tr th:only-of-type {\n        vertical-align: middle;\n    }\n\n    .dataframe tbody tr th {\n        vertical-align: top;\n    }\n\n    .dataframe thead th {\n        text-align: right;\n    }\n</style>\n<table border=\"1\" class=\"dataframe\">\n  <thead>\n    <tr style=\"text-align: right;\">\n      <th></th>\n      <th>id</th>\n      <th>price</th>\n    </tr>\n  </thead>\n  <tbody>\n    <tr>\n      <th>0</th>\n      <td>188533</td>\n      <td>17236.044495</td>\n    </tr>\n    <tr>\n      <th>1</th>\n      <td>188534</td>\n      <td>99114.980651</td>\n    </tr>\n    <tr>\n      <th>2</th>\n      <td>188535</td>\n      <td>53579.333389</td>\n    </tr>\n    <tr>\n      <th>3</th>\n      <td>188536</td>\n      <td>22607.311964</td>\n    </tr>\n    <tr>\n      <th>4</th>\n      <td>188537</td>\n      <td>30586.824342</td>\n    </tr>\n  </tbody>\n</table>\n</div>"
          },
          "metadata": {}
        }
      ]
    },
    {
      "cell_type": "code",
      "source": [
        "train_predictions_catboost = clf_catboost.predict(X.iloc[:10, :])\n",
        "train_predictions_catboost"
      ],
      "metadata": {
        "execution": {
          "iopub.status.busy": "2024-09-12T19:09:40.441899Z",
          "iopub.execute_input": "2024-09-12T19:09:40.442382Z",
          "iopub.status.idle": "2024-09-12T19:09:40.456813Z",
          "shell.execute_reply.started": "2024-09-12T19:09:40.44234Z",
          "shell.execute_reply": "2024-09-12T19:09:40.455403Z"
        },
        "trusted": true,
        "id": "Xz-Uu1S37mfM",
        "outputId": "06441881-a118-411b-d304-229954f6991e"
      },
      "execution_count": null,
      "outputs": [
        {
          "execution_count": 68,
          "output_type": "execute_result",
          "data": {
            "text/plain": "array([ 9271.10132533,  9394.04603591, 12643.83118629, 63366.45447781,\n       69883.22790108, 38520.76167256, 29871.8693031 , 21759.56720057,\n       39394.4212853 , 35246.6149881 ])"
          },
          "metadata": {}
        }
      ]
    },
    {
      "cell_type": "code",
      "source": [
        "# train.head()"
      ],
      "metadata": {
        "execution": {
          "iopub.status.busy": "2024-09-12T10:13:44.21662Z",
          "iopub.execute_input": "2024-09-12T10:13:44.217806Z",
          "iopub.status.idle": "2024-09-12T10:13:44.240211Z",
          "shell.execute_reply.started": "2024-09-12T10:13:44.217718Z",
          "shell.execute_reply": "2024-09-12T10:13:44.238844Z"
        },
        "trusted": true,
        "id": "TSK7H58o7mfM",
        "outputId": "4c2da42e-0058-4e79-83b9-15a81bdd60ee"
      },
      "execution_count": null,
      "outputs": [
        {
          "execution_count": 103,
          "output_type": "execute_result",
          "data": {
            "text/plain": "           brand              model  model_year  milage      fuel_type  \\\n0           MINI      Cooper S Base        2007  213000       Gasoline   \n1        Lincoln              LS V8        2002  143250       Gasoline   \n2      Chevrolet  Silverado 2500 LT        2002  136731  E85 Flex Fuel   \n3        Genesis   G90 5.0 Ultimate        2017   19500       Gasoline   \n4  Mercedes-Benz        Metris Base        2021    7388       Gasoline   \n\n                                              engine  \\\n0       172.0HP 1.6L 4 Cylinder Engine Gasoline Fuel   \n1       252.0HP 3.9L 8 Cylinder Engine Gasoline Fuel   \n2  320.0HP 5.3L 8 Cylinder Engine Flex Fuel Capab...   \n3       420.0HP 5.0L 8 Cylinder Engine Gasoline Fuel   \n4       208.0HP 2.0L 4 Cylinder Engine Gasoline Fuel   \n\n                     transmission ext_col int_col  \\\n0                             A/T  Yellow    Gray   \n1                             A/T  Silver   Beige   \n2                             A/T    Blue    Gray   \n3  Transmission w/Dual Shift Mode   Black   Black   \n4                     7-Speed A/T   Black   Beige   \n\n                                 accident clean_title  price  \n0                           None reported         Yes   4200  \n1  At least 1 accident or damage reported         Yes   4999  \n2                           None reported         Yes  13900  \n3                           None reported         Yes  45000  \n4                           None reported         Yes  97500  ",
            "text/html": "<div>\n<style scoped>\n    .dataframe tbody tr th:only-of-type {\n        vertical-align: middle;\n    }\n\n    .dataframe tbody tr th {\n        vertical-align: top;\n    }\n\n    .dataframe thead th {\n        text-align: right;\n    }\n</style>\n<table border=\"1\" class=\"dataframe\">\n  <thead>\n    <tr style=\"text-align: right;\">\n      <th></th>\n      <th>brand</th>\n      <th>model</th>\n      <th>model_year</th>\n      <th>milage</th>\n      <th>fuel_type</th>\n      <th>engine</th>\n      <th>transmission</th>\n      <th>ext_col</th>\n      <th>int_col</th>\n      <th>accident</th>\n      <th>clean_title</th>\n      <th>price</th>\n    </tr>\n  </thead>\n  <tbody>\n    <tr>\n      <th>0</th>\n      <td>MINI</td>\n      <td>Cooper S Base</td>\n      <td>2007</td>\n      <td>213000</td>\n      <td>Gasoline</td>\n      <td>172.0HP 1.6L 4 Cylinder Engine Gasoline Fuel</td>\n      <td>A/T</td>\n      <td>Yellow</td>\n      <td>Gray</td>\n      <td>None reported</td>\n      <td>Yes</td>\n      <td>4200</td>\n    </tr>\n    <tr>\n      <th>1</th>\n      <td>Lincoln</td>\n      <td>LS V8</td>\n      <td>2002</td>\n      <td>143250</td>\n      <td>Gasoline</td>\n      <td>252.0HP 3.9L 8 Cylinder Engine Gasoline Fuel</td>\n      <td>A/T</td>\n      <td>Silver</td>\n      <td>Beige</td>\n      <td>At least 1 accident or damage reported</td>\n      <td>Yes</td>\n      <td>4999</td>\n    </tr>\n    <tr>\n      <th>2</th>\n      <td>Chevrolet</td>\n      <td>Silverado 2500 LT</td>\n      <td>2002</td>\n      <td>136731</td>\n      <td>E85 Flex Fuel</td>\n      <td>320.0HP 5.3L 8 Cylinder Engine Flex Fuel Capab...</td>\n      <td>A/T</td>\n      <td>Blue</td>\n      <td>Gray</td>\n      <td>None reported</td>\n      <td>Yes</td>\n      <td>13900</td>\n    </tr>\n    <tr>\n      <th>3</th>\n      <td>Genesis</td>\n      <td>G90 5.0 Ultimate</td>\n      <td>2017</td>\n      <td>19500</td>\n      <td>Gasoline</td>\n      <td>420.0HP 5.0L 8 Cylinder Engine Gasoline Fuel</td>\n      <td>Transmission w/Dual Shift Mode</td>\n      <td>Black</td>\n      <td>Black</td>\n      <td>None reported</td>\n      <td>Yes</td>\n      <td>45000</td>\n    </tr>\n    <tr>\n      <th>4</th>\n      <td>Mercedes-Benz</td>\n      <td>Metris Base</td>\n      <td>2021</td>\n      <td>7388</td>\n      <td>Gasoline</td>\n      <td>208.0HP 2.0L 4 Cylinder Engine Gasoline Fuel</td>\n      <td>7-Speed A/T</td>\n      <td>Black</td>\n      <td>Beige</td>\n      <td>None reported</td>\n      <td>Yes</td>\n      <td>97500</td>\n    </tr>\n  </tbody>\n</table>\n</div>"
          },
          "metadata": {}
        }
      ]
    },
    {
      "cell_type": "code",
      "source": [
        "sample = pd.read_csv('/kaggle/input/playground-series-s4e9/sample_submission.csv')\n",
        "sample.head()"
      ],
      "metadata": {
        "execution": {
          "iopub.status.busy": "2024-09-12T12:28:05.19372Z",
          "iopub.execute_input": "2024-09-12T12:28:05.194225Z",
          "iopub.status.idle": "2024-09-12T12:28:05.247926Z",
          "shell.execute_reply.started": "2024-09-12T12:28:05.194178Z",
          "shell.execute_reply": "2024-09-12T12:28:05.24675Z"
        },
        "trusted": true,
        "id": "fnnrZzlA7mfM",
        "outputId": "aaa381c9-cb59-4eb3-b778-8c0075946a94"
      },
      "execution_count": null,
      "outputs": [
        {
          "execution_count": 183,
          "output_type": "execute_result",
          "data": {
            "text/plain": "       id      price\n0  188533  43878.016\n1  188534  43878.016\n2  188535  43878.016\n3  188536  43878.016\n4  188537  43878.016",
            "text/html": "<div>\n<style scoped>\n    .dataframe tbody tr th:only-of-type {\n        vertical-align: middle;\n    }\n\n    .dataframe tbody tr th {\n        vertical-align: top;\n    }\n\n    .dataframe thead th {\n        text-align: right;\n    }\n</style>\n<table border=\"1\" class=\"dataframe\">\n  <thead>\n    <tr style=\"text-align: right;\">\n      <th></th>\n      <th>id</th>\n      <th>price</th>\n    </tr>\n  </thead>\n  <tbody>\n    <tr>\n      <th>0</th>\n      <td>188533</td>\n      <td>43878.016</td>\n    </tr>\n    <tr>\n      <th>1</th>\n      <td>188534</td>\n      <td>43878.016</td>\n    </tr>\n    <tr>\n      <th>2</th>\n      <td>188535</td>\n      <td>43878.016</td>\n    </tr>\n    <tr>\n      <th>3</th>\n      <td>188536</td>\n      <td>43878.016</td>\n    </tr>\n    <tr>\n      <th>4</th>\n      <td>188537</td>\n      <td>43878.016</td>\n    </tr>\n  </tbody>\n</table>\n</div>"
          },
          "metadata": {}
        }
      ]
    }
  ]
}